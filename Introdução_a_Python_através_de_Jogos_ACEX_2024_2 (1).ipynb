{
  "nbformat": 4,
  "nbformat_minor": 0,
  "metadata": {
    "colab": {
      "provenance": []
    },
    "kernelspec": {
      "name": "python3",
      "display_name": "Python 3"
    },
    "language_info": {
      "name": "python"
    }
  },
  "cells": [
    {
      "cell_type": "markdown",
      "source": [
        ">[1 - Introdução](#scrollTo=egdIND3a3kQV)\n",
        "\n",
        ">>[1.1 Python](#scrollTo=22gCbOzUjwEK)\n",
        "\n",
        ">>[1.2 - Preparando o ambiente de desenvolvimento:](#scrollTo=aT4MI7GGj-jI)\n",
        "\n",
        ">>[- Passo 1: Instalar o Python](#scrollTo=aT4MI7GGj-jI)\n",
        "\n",
        ">>>[- Baixe o instalador](#scrollTo=aT4MI7GGj-jI)\n",
        "\n",
        ">>>[- Execute o instalador](#scrollTo=aT4MI7GGj-jI)\n",
        "\n",
        ">>>[- Verificar a instalação](#scrollTo=aT4MI7GGj-jI)\n",
        "\n",
        ">>[- Passo 2: Instalar o VS Code (Visual Studio Code)](#scrollTo=aT4MI7GGj-jI)\n",
        "\n",
        ">>>[- Baixe o instalador](#scrollTo=aT4MI7GGj-jI)\n",
        "\n",
        ">>>[- Instale o VS Code](#scrollTo=aT4MI7GGj-jI)\n",
        "\n",
        ">>>[- Abra o VS Code](#scrollTo=aT4MI7GGj-jI)\n",
        "\n",
        ">>[- Passo 3: Conhecendo o VS Code](#scrollTo=aT4MI7GGj-jI)\n",
        "\n",
        ">>>[1. Explorador de Arquivos (Ícone de uma pasta)](#scrollTo=aT4MI7GGj-jI)\n",
        "\n",
        ">>>[2. Barra Lateral (Ícones à esquerda)](#scrollTo=aT4MI7GGj-jI)\n",
        "\n",
        ">>>[3. Área de Código](#scrollTo=aT4MI7GGj-jI)\n",
        "\n",
        ">>>[4. Terminal Integrado](#scrollTo=aT4MI7GGj-jI)\n",
        "\n",
        ">>[1.3 - Hello World](#scrollTo=iNbQN2PAkLV8)\n",
        "\n",
        ">>[- Passo 1: Criando seu primeiro arquivo Python no VS Code](#scrollTo=iNbQN2PAkLV8)\n",
        "\n",
        ">>>[1. Criar um novo arquivo](#scrollTo=iNbQN2PAkLV8)\n",
        "\n",
        ">>>[2. Escrevendo código](#scrollTo=iNbQN2PAkLV8)\n",
        "\n",
        ">>>[3. Executar o código](#scrollTo=iNbQN2PAkLV8)\n",
        "\n",
        ">>>[4. Pressione Enter.](#scrollTo=iNbQN2PAkLV8)\n",
        "\n",
        ">[2 - Variáveis](#scrollTo=k7LobK0A3rqE)\n",
        "\n",
        ">>[O que são variáveis?](#scrollTo=k7LobK0A3rqE)\n",
        "\n",
        ">>>[Exemplo prático:](#scrollTo=k7LobK0A3rqE)\n",
        "\n",
        ">>[2.1 - Tipos de variáveis e tipos de dados](#scrollTo=w7UUMJOeke80)\n",
        "\n",
        ">>>[1. Números inteiros (int)](#scrollTo=w7UUMJOeke80)\n",
        "\n",
        ">>>[2. Números decimais (float)](#scrollTo=w7UUMJOeke80)\n",
        "\n",
        ">>>[3. Texto (str)](#scrollTo=w7UUMJOeke80)\n",
        "\n",
        ">>>[4. Booleanos (bool)](#scrollTo=w7UUMJOeke80)\n",
        "\n",
        ">>[2.2 - Operações aritméticas com números e variáveis](#scrollTo=z9D4F31_kt8t)\n",
        "\n",
        ">>>[1. Soma (+)](#scrollTo=z9D4F31_kt8t)\n",
        "\n",
        ">>>[2. Subtração (-)](#scrollTo=z9D4F31_kt8t)\n",
        "\n",
        ">>>[3. Multiplicação (*)](#scrollTo=z9D4F31_kt8t)\n",
        "\n",
        ">>>[4. Divisão (/)](#scrollTo=z9D4F31_kt8t)\n",
        "\n",
        ">>>[5. Divisão inteira (//)](#scrollTo=z9D4F31_kt8t)\n",
        "\n",
        ">>>[6. Módulo (%)](#scrollTo=z9D4F31_kt8t)\n",
        "\n",
        ">>>[7. Exponenciação ()**](#scrollTo=z9D4F31_kt8t)\n",
        "\n",
        ">>[2.3 - Algoritmos e lógica de programação](#scrollTo=eLKXKyz1lCp-)\n",
        "\n",
        ">>>[O que é um algoritmo?](#scrollTo=eLKXKyz1lCp-)\n",
        "\n",
        ">>>[Exemplo de algoritmo simples:](#scrollTo=eLKXKyz1lCp-)\n",
        "\n",
        ">>>[Explicação do algoritmo:](#scrollTo=eLKXKyz1lCp-)\n",
        "\n",
        ">>>[Estruturas de controle:](#scrollTo=eLKXKyz1lCp-)\n",
        "\n",
        ">>>>[Exemplo de loop (repetição):](#scrollTo=eLKXKyz1lCp-)\n",
        "\n",
        ">[3 - Entrada e saída de dados](#scrollTo=Q5ZnuyMj3ymV)\n",
        "\n",
        ">>[3.1 - A função print](#scrollTo=Fpd_N0H22eXP)\n",
        "\n",
        ">>[3.2 - A função input](#scrollTo=ILPE3Myf3XPh)\n",
        "\n",
        ">[4 - Condicionais](#scrollTo=hYGmXWZN3zI3)\n",
        "\n",
        ">>[4.1 - If](#scrollTo=qluLEgUR5KuM)\n",
        "\n",
        ">>[4.2 - Else](#scrollTo=5t1X_VdJ5W31)\n",
        "\n",
        ">>[4.3 - Ifelse](#scrollTo=b83pvlvh5yCU)\n",
        "\n",
        ">>[4.4 - If aninhado](#scrollTo=Kc24paV76Xtz)\n",
        "\n",
        ">>[4.4 - If Ternário (operador ternario)](#scrollTo=fzRUqVkN6qeF)\n",
        "\n",
        ">>[4.5 - Operadores Lógicos](#scrollTo=DRuo2Fz6gUCn)\n",
        "\n",
        ">[5 - Estruturas de Repetição](#scrollTo=t-jUo67FrLfi)\n",
        "\n",
        ">>[5.1   O Loop while:](#scrollTo=XgDaHPPvcsKJ)\n",
        "\n",
        ">>[5.3 O Loop for:](#scrollTo=XfBTPOdXuPo4)\n",
        "\n",
        ">[6 - Coleções](#scrollTo=NneHkp3u-4gs)\n",
        "\n",
        ">>[6.1   Listas](#scrollTo=Qm4lf4Es_R9V)\n",
        "\n",
        ">>[6.2   Tuplas](#scrollTo=ZpMbFBzMFiKY)\n",
        "\n",
        ">>[6.2   Dicionários](#scrollTo=RXAWjs5gA2IB)\n",
        "\n",
        ">[7 - Funções](#scrollTo=-X8KGjw43z84)\n",
        "\n",
        ">>[7.1 - Criando sua própria função](#scrollTo=phST7KLaQRt0)\n",
        "\n",
        ">>[7.2 - Funções com parâmetros](#scrollTo=e_wFR0ZgIUqf)\n",
        "\n",
        ">>>[7.2.1 - Variáveis globais e variáveis locais](#scrollTo=3RK14LFLOm6u)\n",
        "\n",
        ">>[7.3 - Importando biblitecas e consultando funções](#scrollTo=xB09-KB6DtLN)\n",
        "\n",
        ">[8 -  Jogo da forca](#scrollTo=nQQEpYTz30PF)\n",
        "\n",
        ">[9 - Jogo da velha](#scrollTo=1ZZ7akwCxEgd)\n",
        "\n",
        ">[10 - Jogo da memória](#scrollTo=3QBcZiQ44Nco)\n",
        "\n",
        ">>>[Imports](#scrollTo=xCg7mhDUd-ol)\n",
        "\n",
        ">>>[Configurações da grade](#scrollTo=h1nXQk2YdxtY)\n",
        "\n",
        ">>>[Constantes](#scrollTo=R0H_jl63gtd3)\n",
        "\n",
        ">>>[Funções](#scrollTo=Ai9smuMVh9Wt)\n",
        "\n",
        ">>>[Configuração da Janela](#scrollTo=8NIjdIYC1jZJ)\n",
        "\n",
        ">>>[Criação da grade e listas relacionadas](#scrollTo=Duz_KrhM15Pr)\n",
        "\n",
        ">>>[Botões](#scrollTo=if_F1gs33Osn)\n",
        "\n",
        ">>>>[Caracterização dos botões](#scrollTo=84lUjIC98Q5z)\n",
        "\n",
        ">>>>[Estilo dos botões](#scrollTo=6ZN0bEePI1oj)\n",
        "\n",
        ">>>[Final do código](#scrollTo=W_5p83d3JuPb)\n",
        "\n"
      ],
      "metadata": {
        "colab_type": "toc",
        "id": "kw8HGynf52UZ"
      }
    },
    {
      "cell_type": "markdown",
      "source": [
        "![Captura de tela 2024-12-01 221027.png](data:image/png;base64,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)"
      ],
      "metadata": {
        "id": "K6RIMqwN67rW"
      }
    },
    {
      "cell_type": "markdown",
      "source": [
        "# **1 - Introdução**\n",
        "\n",
        "- O que é um Programa?\n",
        "\n",
        "Imagine que você tem um robô em casa. Esse robô pode fazer várias tarefas para você, como acender a luz, tocar música ou até mesmo fazer um sanduíche. Mas para o robô fazer essas coisas, ele precisa de instruções claras. Um programa é justamente isso: um conjunto de instruções que diz ao computador (ou ao robô) o que ele deve fazer, passo a passo.\n",
        "\n",
        "Quando você usa o seu computador ou celular para jogar, assistir vídeos ou enviar mensagens, todos esses aplicativos e jogos são programas. Eles foram criados por pessoas que escreveram essas instruções para que o computador saiba exatamente o que fazer quando você toca na tela ou clica em um botão. No entanto, essas instruções são feitas usando uma linguagem própria chamada Linfguagem de Programação.\n",
        "\n",
        "- O que é uma Linguagem de Programação?\n",
        "\n",
        "Agora, pense em como você se comunica com seus amigos e família. Você usa palavras em português (ou outra língua) para falar com eles. Da mesma forma, os programadores usam uma linguagem de programação para \"conversar\" com o computador e dizer o que ele deve fazer.\n",
        "\n",
        "Uma linguagem de programação é um tipo especial de linguagem que os computadores entendem. Ela difere de outras línguas naturais como o Português pois o computador não pensa, e portanto, não é capaz de interpretar nuances e subjetividade. Dessa forma, na lingaugem de programação as instruções precisam ser exatas e precisas. Cada linguagem de programação tem suas próprias regras e palavras, assim como o português e o inglês. Algumas das linguagens de programação mais conhecidas são Python, Java, e C++.\n",
        "\n",
        "O presente material é um documento de apoio para o mini curso: Introdução a Python através de jogos. Com ele aprenderemos um pouco sobre o Python sua sintaxe, regras e características próprias, cada capítulo visa introduzir um conceito novo, com exemplos práticos de aplicação e ao final do conteúdo aplicaremos todos os conhecimentos adquiridos até aqui em dois projetos de finais: jogo da forca e jogo da memória.\n",
        "\n",
        "---\n",
        "\n"
      ],
      "metadata": {
        "id": "egdIND3a3kQV"
      }
    },
    {
      "cell_type": "markdown",
      "source": [
        "##**1.1 Python**\n",
        "\n",
        "Python é uma linguagem de programação fácil de aprender, usada para desenvolver vários tipos de programas. Ela é conhecida por sua simplicidade e por permitir que programadores criem desde scripts (pequenos programas) até aplicações completas. Uma das vantagens do Python é que ele é gratuito e possui uma grande biblioteca de recursos que podem ser usados em diferentes projetos. Você pode baixá-lo no site oficial python.org.\n",
        "\n",
        "- Características do Python:\n",
        "\n",
        "  - Sintaxe Simples e Clara: Python tem uma sintaxe que se assemelha ao inglês, o que facilita a leitura e a escrita do código. Isso torna o aprendizado mais intuitivo, especialmente para quem está começando.\n",
        "\n",
        "  - Interpretada: Python é uma linguagem interpretada, o que significa que o código é executado linha por linha. Isso permite a rápida identificação de erros e facilita a depuração.\n",
        "\n",
        "  - Ampla Biblioteca Padrão: Python vem com uma biblioteca padrão robusta que oferece módulos e funções para praticamente qualquer tarefa, desde manipulação de arquivos até desenvolvimento web.\n",
        "\n",
        "  - Indentação Obrigatória: Diferente de muitas linguagens, Python usa a indentação (espaços e tabulações) para definir blocos de código, em vez de chaves {}. Isso não apenas melhora a legibilidade, mas também obriga os programadores a manterem um código limpo e organizado.\n",
        "\n",
        "  - Dinamicamente Tipada: Em Python, você não precisa declarar explicitamente o tipo de uma variável. O tipo é inferido automaticamente, o que simplifica o código, mas também requer cuidado extra para evitar erros. Se você não conseguiu entender o que isso significa não se preocupe, ficará mais claro no capítulo 2: variáveis\n",
        "\n",
        "- Vantagens do Python:\n",
        "\n",
        "  - Facilidade de Aprendizado: A simplicidade da sintaxe do Python faz com que ele seja uma excelente escolha para quem está começando a programar.\n",
        "\n",
        "  - Comunidade Ativa: Python tem uma comunidade global ativa e crescente. Isso significa que há muitos recursos, tutoriais e fóruns disponíveis para ajudar você a resolver problemas e aprender mais sobre a linguagem.\n",
        "\n",
        "  - Versatilidade: Python é usado em diversas áreas, como desenvolvimento web, ciência de dados, inteligência artificial, automação de tarefas e criação de jogos. Sua versatilidade o torna uma ferramenta valiosa em muitas indústrias.\n",
        "\n",
        "  - Integração Fácil: Python pode se integrar facilmente com outras linguagens e tecnologias, o que facilita a incorporação de código Python em projetos existentes.\n",
        "\n",
        "---"
      ],
      "metadata": {
        "id": "22gCbOzUjwEK"
      }
    },
    {
      "cell_type": "markdown",
      "source": [
        "##**1.2 - Preparando o ambiente de desenvolvimento:**\n",
        "Para começar a programar em Python, precisamos instalar alguns softwares e configurar nosso ambiente de desenvolvimento. Vamos seguir os passos abaixo.\n",
        "\n",
        "## **- Passo 1: Instalar o Python**\n",
        "\n",
        "- Acesse o site oficial do Python\n",
        "\n",
        "Abra o navegador e vá para o site https://www.python.org.\n",
        "\n",
        "### **- Baixe o instalador**\n",
        "\n",
        "- Clique em Downloads na página inicial.\n",
        "\n",
        "- O site detectará automaticamente o sistema operacional do seu computador (Windows, macOS ou Linux).\n",
        "\n",
        "- Baixe a versão recomendada para o seu sistema.\n",
        "\n",
        "### **- Execute o instalador**\n",
        "\n",
        "- Ao abrir o instalador, marque a opção \"Add Python to PATH\" (muito importante para facilitar o uso).\n",
        "\n",
        "- Clique em Install Now e aguarde a instalação.\n",
        "\n",
        "### **- Verificar a instalação**\n",
        "\n",
        "- Abra o Prompt de Comando (no Windows) ou o Terminal (no macOS/Linux).\n",
        "\n",
        "- Digite python --version e pressione Enter.\n",
        "- Se o Python foi instalado corretamente, você verá a versão instalada, como Python 3.x.x.\n",
        "\n",
        "---\n",
        "\n",
        "## **- Passo 2: Instalar o VS Code (Visual Studio Code)**\n",
        "- O VS Code é um editor de código leve, fácil de usar e muito popular entre desenvolvedores.\n",
        "\n",
        "- Acesse o site oficial do VS Code\n",
        "Vá para https://code.visualstudio.com.\n",
        "\n",
        "### **- Baixe o instalador**\n",
        "\n",
        "- Clique em Download for Windows/macOS/Linux conforme seu sistema operacional.\n",
        "\n",
        "### **- Instale o VS Code**\n",
        "\n",
        "- Execute o instalador e siga as instruções na tela.\n",
        "- Durante a instalação, marque a opção \"Add to PATH\" para facilitar o acesso pelo terminal.\n",
        "\n",
        "### **- Abra o VS Code**\n",
        "- Após a instalação, abra o programa. Você verá a tela inicial do VS Code.\n",
        "\n",
        "---\n",
        "\n",
        "## **- Passo 3: Conhecendo o VS Code**\n",
        "- Ao abrir o VS Code, estas são as principais áreas da interface:\n",
        "\n",
        "### **1. Explorador de Arquivos (Ícone de uma pasta)**\n",
        "\n",
        "- Permite navegar entre arquivos e pastas do seu projeto.\n",
        "- Para abrir um arquivo ou pasta, clique no botão \"Open Folder\" ou \"Open File\".\n",
        "\n",
        "### **2. Barra Lateral (Ícones à esquerda)**\n",
        "\n",
        "- Contém funções como o Controlador de Versões (Git), Extensões, Busca e Depuração.\n",
        "\n",
        "### **3. Área de Código**\n",
        "\n",
        "- Aqui é onde você escreve seu código Python.\n",
        "- Cada arquivo aberto aparece em uma aba no topo.\n",
        "\n",
        "### **4. Terminal Integrado**\n",
        "\n",
        "- Para abrir o terminal dentro do VS Code, vá em View > Terminal.\n",
        "- Ele permite executar comandos sem precisar sair do editor.\n"
      ],
      "metadata": {
        "id": "aT4MI7GGj-jI"
      }
    },
    {
      "cell_type": "markdown",
      "source": [
        "---\n",
        "\n",
        "## **1.3 - Hello World**\n",
        "\n",
        "## **- Passo 1: Criando seu primeiro arquivo Python no VS Code**\n",
        "\n",
        "### **1. Criar um novo arquivo**\n",
        "\n",
        "- No explorador de arquivos, clique no botão \"Novo Arquivo\" (ícone de papel).\n",
        "- Dê o nome ao arquivo com a extensão .py (por exemplo, primeiro_programa.py).\n",
        "\n",
        "### **2. Escrevendo código**\n",
        "\n",
        "- No arquivo criado, escreva o seguinte código:\n",
        "\n",
        "print(\"Olá, mundo!\")\n",
        "\n",
        "### **3. Executar o código**\n",
        "\n",
        "- Salve o arquivo pressionando Ctrl+S (ou Cmd+S no macOS).\n",
        "Abra o terminal integrado e digite:\n",
        "\n",
        "\" python primeiro_programa.py \" (sem as aspas)\n",
        "\n",
        "### **4. Pressione Enter.**\n",
        "\n",
        "- Você verá a mensagem \"Olá, mundo!\" no terminal.\n",
        "\n",
        "\n",
        "**Pronto! Agora você já configurou seu ambiente e escreveu seu primeiro programa em Python. 🚀**\n",
        "\n",
        "---\n"
      ],
      "metadata": {
        "id": "iNbQN2PAkLV8"
      }
    },
    {
      "cell_type": "markdown",
      "source": [
        "# **2 - Variáveis**\n",
        "\n",
        "Aqui está o conteúdo formatado para você colar diretamente no Google Colab. Ele inclui explicações detalhadas e código de exemplo para todos os tópicos. Você pode simplesmente copiar e colar em um bloco de texto no Colab.\n",
        "\n",
        "## **O que são variáveis?**\n",
        "- **Definição**: Em programação, uma **variável** é um \"recipiente\" onde você pode armazenar dados temporariamente. Esses dados podem ser números, texto, ou outros tipos de informações.\n",
        "- **Como funcionam?**: Você cria uma variável e \"coloca\" um valor nela. Depois, pode usar esse valor ao longo do seu código.\n",
        "\n",
        "### Exemplo prático:\n",
        "```python\n",
        "# Criando uma variável chamada \"idade\"\n",
        "idade = 25\n",
        "\n",
        "# Usando a variável\n",
        "print(idade)\n",
        "```\n",
        "- No código acima, a variável **idade** armazena o valor **25**. Sempre que você quiser usar o número 25 no código, pode referenciar a variável **idade**.\n",
        "\n",
        "---\n",
        "\n",
        "\n",
        "\n"
      ],
      "metadata": {
        "id": "k7LobK0A3rqE"
      }
    },
    {
      "cell_type": "markdown",
      "source": [
        "## **2.1 - Tipos de variáveis e tipos de dados**\n",
        "\n",
        "Existem diferentes tipos de dados que você pode armazenar em variáveis. Vamos ver os principais:\n",
        "\n",
        "### **1. Números inteiros (int)**\n",
        "* **Definição**: Números inteiros são números sem casas decimais.\n",
        "* **Exemplo**:\n",
        "```python\n",
        "numero_inteiro = 10\n",
        "print(type(numero_inteiro))  \n",
        "\n",
        "### **2. Números decimais (float)**\n",
        "- **Definição**: São números que possuem uma parte decimal (ponto flutuante).\n",
        "- **Exemplo**:\n",
        "```python\n",
        "numero_decimal = 3.14\n",
        "print(type(numero_decimal))  \n",
        "\n",
        "### **3. Texto (str)**\n",
        "* **Definição**: Strings são sequências de caracteres, como palavras, frases ou números que são tratados como texto.\n",
        "* **Exemplo**:\n",
        "```python\n",
        "nome = \"Maria\"\n",
        "print(type(nome))  # Isso vai mostrar que o tipo é 'str' (string)\n",
        "```\n",
        "\n",
        "### **4. Booleanos (bool)**\n",
        "* **Definição**: São valores lógicos que podem ser **True** (verdadeiro) ou **False** (falso).\n",
        "* **Exemplo**:\n",
        "```python\n",
        "flag = True\n",
        "print(type(flag))  # Isso vai mostrar que o tipo é 'bool'\n",
        "```\n",
        "\n",
        "---"
      ],
      "metadata": {
        "id": "w7UUMJOeke80"
      }
    },
    {
      "cell_type": "markdown",
      "source": [
        "## **2.2 - Operações aritméticas com números e variáveis**\n",
        "\n",
        "Em Python, você pode realizar várias operações matemáticas com números e variáveis. Aqui estão as operações básicas:\n",
        "\n",
        "### **1. Soma (+)**\n",
        "* **Exemplo**:\n",
        "```python\n",
        "a = 10\n",
        "b = 5\n",
        "soma = a + b\n",
        "print(soma)  # Resultado: 15\n",
        "```\n",
        "\n",
        "### **2. Subtração (-)**\n",
        "* **Exemplo**:\n",
        "```python\n",
        "a = 10\n",
        "b = 5\n",
        "subtracao = a - b\n",
        "print(subtracao)  # Resultado: 5\n",
        "```\n",
        "\n",
        "### **3. Multiplicação (*)**\n",
        "* **Exemplo**:\n",
        "```python\n",
        "a = 10\n",
        "b = 5\n",
        "multiplicacao = a * b\n",
        "print(multiplicacao)  # Resultado: 50\n",
        "```\n",
        "\n",
        "### **4. Divisão (/)**\n",
        "* **Exemplo**:\n",
        "```python\n",
        "a = 10\n",
        "b = 5\n",
        "divisao = a / b\n",
        "print(divisao)  # Resultado: 2.0\n",
        "```\n",
        "\n",
        "### **5. Divisão inteira (//)**\n",
        "* **Exemplo**: Retorna o resultado da divisão sem a parte decimal.\n",
        "```python\n",
        "a = 10\n",
        "b = 5\n",
        "divisao_inteira = a // b\n",
        "print(divisao_inteira)  # Resultado: 2\n",
        "```\n",
        "\n",
        "### **6. Módulo (%)**\n",
        "* **Exemplo**: Retorna o **resto** da divisão.\n",
        "```python\n",
        "a = 10\n",
        "b = 3\n",
        "resto = a % b\n",
        "print(resto)  # Resultado: 1\n",
        "```\n",
        "\n",
        "### **7. Exponenciação (**)**\n",
        "* **Exemplo**: Eleva um número a outro.\n",
        "```python\n",
        "a = 10\n",
        "b = 5\n",
        "exponenciacao = a ** b\n",
        "print(exponenciacao)  # Resultado: 100000\n",
        "```\n",
        "\n",
        "---"
      ],
      "metadata": {
        "id": "z9D4F31_kt8t"
      }
    },
    {
      "cell_type": "markdown",
      "source": [
        "## **2.3 - Algoritmos e lógica de programação**\n",
        "\n",
        "### **O que é um algoritmo?**\n",
        "* **Definição**: Um algoritmo é uma sequência de passos bem definidos que resolvem um problema. Em programação, isso se traduz em um conjunto de instruções que o computador executa para realizar uma tarefa específica.\n",
        "\n",
        "### **Exemplo de algoritmo simples:**\n",
        "Vamos criar um algoritmo para verificar se um número é **par** ou **ímpar**.\n",
        "\n",
        "```python\n",
        "# Algoritmo para verificar se um número é par ou ímpar\n",
        "\n",
        "numero = 10  # Defina o número\n",
        "\n",
        "if numero % 2 == 0:  # Verifica se o resto da divisão por 2 é 0\n",
        "    print(f\"O número {numero} é par.\")\n",
        "else:\n",
        "    print(f\"O número {numero} é ímpar.\")\n",
        "```\n",
        "\n",
        "### **Explicação do algoritmo:**\n",
        "1. **Entrada**: O número que queremos verificar (no exemplo, `10`).\n",
        "2. **Processamento**: A operação `numero % 2 == 0` verifica se o número é divisível por 2, ou seja, se o resto da divisão é zero.\n",
        "3. **Saída**: O programa imprime se o número é **par** ou **ímpar**.\n",
        "\n",
        "### **Estruturas de controle:**\n",
        "Além de condições como `if`, também podemos usar outras estruturas de controle como **loops** para repetir ações, como o **for** ou o **while**.\n",
        "\n",
        "#### Exemplo de loop (repetição):\n",
        "```python\n",
        "# Exemplo de loop que imprime números de 1 a 5\n",
        "for i in range(1, 6):\n",
        "    print(i)\n",
        "```\n",
        "\n",
        "Neste código, o loop `for` vai executar o comando `print(i)` 5 vezes, imprimindo os números de 1 a 5.\n",
        "```\n",
        "\n",
        "---"
      ],
      "metadata": {
        "id": "eLKXKyz1lCp-"
      }
    },
    {
      "cell_type": "markdown",
      "source": [
        "#**3 - Entrada e saída de dados**\n",
        "\n",
        "As funções de entrada e saída de dados são de grande importancia durante a programação visto que elas fornecem ao código capacidade de interagir com o usuario.\n",
        "\n",
        "---\n",
        "\n"
      ],
      "metadata": {
        "id": "Q5ZnuyMj3ymV"
      }
    },
    {
      "cell_type": "markdown",
      "source": [
        "##**3.1 - A função print**\n",
        "\n",
        "*   **Função Saída:**\n",
        "A função print é usada para mostrar informações na tela. Você pode exibir textos, números ou variáveis, e o Python converte esses valores para texto automaticamente.\n",
        "\n",
        "Ela também possui algumas opções extras:\n",
        "\n",
        "**sep:** Define como os valores serão separados (o padrão é um espaço).\n",
        "\n",
        "**end:** Define o que será mostrado no final (o padrão é pular para a próxima linha).\n",
        "\n",
        "**file:** Permite enviar a saída para um arquivo.\n",
        "\n",
        "**flush:** Garante que o texto apareça imediatamente.\n",
        "\n",
        "EX:"
      ],
      "metadata": {
        "id": "Fpd_N0H22eXP"
      }
    },
    {
      "cell_type": "code",
      "source": [
        "nome = \"Guilherme\"\n",
        "sobrenome = \"Carvalho\"\n",
        "\n",
        "print(nome, sobrenome)\n",
        "print(nome, sobrenome, end=\"...\\n\")\n",
        "print(nome, sobrenome, sep=\"#\")\n",
        "\n",
        ">>> Guilherme Carvalho\n",
        ">>> Guilherme Carvalho...\n",
        ">>> Guilherme#Carvalho\n"
      ],
      "metadata": {
        "id": "ZYYwEAYq2fYR"
      },
      "execution_count": null,
      "outputs": []
    },
    {
      "cell_type": "markdown",
      "source": [
        "---\n",
        "##**3.2 - A função input**\n",
        "*   **Função Entrada:** Função input A função builtin input é utilizada quando queremos ler dados da entrada padrão (teclado). Ela recebe um argumento do tipo string, que é exibido para o usuário na saída padrão (tela). A função lê a entrada, converte para string e retorna o valor.\n",
        "EX:\n"
      ],
      "metadata": {
        "id": "ILPE3Myf3XPh"
      }
    },
    {
      "cell_type": "code",
      "source": [
        "nome = input(\"Informe o seu nome: \")\n",
        "print(nome);"
      ],
      "metadata": {
        "id": "_nbD4cZn2Xqm"
      },
      "execution_count": null,
      "outputs": []
    },
    {
      "cell_type": "markdown",
      "source": [
        " **Cápitulo 3: Links Uteis**\n",
        "\n",
        "https://docs.python.org/3/library/functions.html#input\n",
        "\n",
        "https://docs.python.org/3/library/functions.html#print\n",
        "\n",
        "---"
      ],
      "metadata": {
        "id": "wZzUKlUT2iZ3"
      }
    },
    {
      "cell_type": "markdown",
      "source": [
        "#**4 - Condicionais**\n",
        "**O que são?**\n",
        "A estrutura condicional permite o desvio de fluxo de controle, quando determinadas expressões lógicas são atendidas.\n",
        "\n",
        "---\n",
        "\n",
        "\n"
      ],
      "metadata": {
        "id": "hYGmXWZN3zI3"
      }
    },
    {
      "cell_type": "markdown",
      "source": [
        "##**4.1 - If**\n",
        "Para criar uma estrutura condicional simples, composta por um único desvio, podemos utilizar a palavra reservada if. O comando irá testar a expressão lógica, e em caso de retorno verdadeiro as ações presentes no bloco de código do if serão executadas.\n",
        "\n",
        "EX:"
      ],
      "metadata": {
        "id": "qluLEgUR5KuM"
      }
    },
    {
      "cell_type": "code",
      "source": [
        "saldo = 2000.0\n",
        "saque = float(input(\"Informe o valor do saque: \"))\n",
        "\n",
        "if saldo >= saque:\n",
        "    print(\"Realizando saque!\")\n",
        "\n",
        "if saldo <= saque:\n",
        "\tprint(\"Saldo insuficiente!\")"
      ],
      "metadata": {
        "id": "PqTZg22b5cfT"
      },
      "execution_count": null,
      "outputs": []
    },
    {
      "cell_type": "markdown",
      "source": [
        "---\n",
        "\n",
        "##**4.2 - Else**\n",
        "Para criar uma estrutura condicional com dois desvios, podemos utilizar as palavras reservadas if e else. Como sabemos se a expressão lógica testada no if for verdadeira, então o bloco de código do if será executado. Caso contrário o bloco de código do else será executado.\n"
      ],
      "metadata": {
        "id": "5t1X_VdJ5W31"
      }
    },
    {
      "cell_type": "code",
      "source": [
        "saldo = 2000.0\n",
        "saque = float(input(\"Informe o valor do saque: \"))\n",
        "\n",
        "if saldo >= saque:\n",
        "    print(\"Realizando saque!\")\n",
        "else:\n",
        "\tprint(\"Saldo insuficiente!\")"
      ],
      "metadata": {
        "id": "9rWL-buJ59bM"
      },
      "execution_count": null,
      "outputs": []
    },
    {
      "cell_type": "markdown",
      "source": [
        "---\n",
        "##**4.3 - Ifelse**"
      ],
      "metadata": {
        "id": "b83pvlvh5yCU"
      }
    },
    {
      "cell_type": "markdown",
      "source": [
        "Em alguns cenários queremos mais de dois desvios, para isso podemos utilizar a palavra reservada elif. O elif é composto por uma nova expressão lógica, que será testada e caso retorne verdadeiro o bloco de código do elif será executado. Não existe um número máximo de elifs que podemos utilizar, porém evite criar grandes estruturas condicionais, pois elas aumentam a complexidade do código.\n",
        "\n",
        "EX:"
      ],
      "metadata": {
        "id": "pCXN1koH6FoW"
      }
    },
    {
      "cell_type": "code",
      "source": [
        "opcao = int(input(\"Informe uma opção: [1] Sacar \\n[2] Extrato: \"))\n",
        "\n",
        "if opcao == 1:\n",
        "\tvalor = float(input(\"Informe a quantia para o saque: \"))\n",
        "\t# ...\n",
        "elif opcao == 2:\n",
        "\tprint(\"Exibindo o extrato...\")\n",
        "else:\n",
        "\tsys.exit(\"Opção inválida\")"
      ],
      "metadata": {
        "id": "jpFucetb6HZt"
      },
      "execution_count": null,
      "outputs": []
    },
    {
      "cell_type": "markdown",
      "source": [
        "---\n",
        "\n",
        "##**4.4 - If aninhado**\n",
        "Podemos criar estruturas condicionais aninhadas, para isso basta adicionar estruturas if/elif/else dentro do bloco de código de estruturas if/elif/else.\n",
        "(segue o padrão dos anteriores)"
      ],
      "metadata": {
        "id": "Kc24paV76Xtz"
      }
    },
    {
      "cell_type": "code",
      "source": [
        "if conta_normal:\n",
        "\tif saldo >= saque:\n",
        "\t\tprint(\"Saque realizado com sucesso!\")\n",
        "\telif saque <= (saldo + cheque_especial):\n",
        "\t\tprint(\"Saque realizado com uso do cheque especial!\")\n",
        "elif conta_universitaria:\n",
        "\tif saldo >= saque:\n",
        "\t\tprint(\"Saque realizado com sucesso!\")\n",
        "\telse:\n",
        "\t\tprint(\"Saldo insuficiente!\")"
      ],
      "metadata": {
        "id": "znqPkt086l_H"
      },
      "execution_count": null,
      "outputs": []
    },
    {
      "cell_type": "markdown",
      "source": [
        "---\n",
        "\n",
        "##**4.4 - If Ternário (operador ternário)**\n",
        "\n",
        "O if ternário permite escrever uma condição em uma única linha. Ele é composto por três partes, a primeira parte é o retorno caso a expressão retorne verdadeiro, a segunda parte é a expressão lógica e a terceira parte é o retorno caso a expressão não seja atendida."
      ],
      "metadata": {
        "id": "fzRUqVkN6qeF"
      }
    },
    {
      "cell_type": "code",
      "source": [
        "status = \"Sucesso\" if saldo >= saque else \"Falha\"\n",
        "\n",
        "print(f\"{status} ao realizar o saque!\")"
      ],
      "metadata": {
        "id": "UiB6TcPn6_jM"
      },
      "execution_count": null,
      "outputs": []
    },
    {
      "cell_type": "markdown",
      "source": [
        "---\n",
        "##**4.5 - Operadores Lógicos**\n",
        "Operadores Lógicos em si não são condicionais mas\n",
        " são usados para combinar condições em Python. Eles ajudam a construir expressões mais complexas ao trabalhar com condicionais. Há três principais operadores lógicos:"
      ],
      "metadata": {
        "id": "DRuo2Fz6gUCn"
      }
    },
    {
      "cell_type": "markdown",
      "source": [
        "*   **4.5.1 and (e) :**\n",
        "\n",
        "  O operador and retorna True se todas as condições forem verdadeiras. Se alguma condição for falsa, o resultado será False.\n"
      ],
      "metadata": {
        "id": "fKWkawuQhIFN"
      }
    },
    {
      "cell_type": "code",
      "source": [
        "idade = 25\n",
        "renda = 3000\n",
        "\n",
        "if idade >= 18 and renda >= 2500:\n",
        "    print(\"Aprovado para o empréstimo!\")\n",
        "else:\n",
        "    print(\"Não atende aos requisitos.\")"
      ],
      "metadata": {
        "id": "KPWXkARAhVj8"
      },
      "execution_count": null,
      "outputs": []
    },
    {
      "cell_type": "markdown",
      "source": [
        "*   **4.5.2 or (ou) :**\n",
        "\n",
        "  O operador or retorna True se pelo menos uma das condições for verdadeira. Retorna False apenas se todas forem falsas."
      ],
      "metadata": {
        "id": "gZDkQrjOhagF"
      }
    },
    {
      "cell_type": "code",
      "source": [
        "idade = 16\n",
        "renda = 4000\n",
        "\n",
        "if idade >= 18 or renda >= 2500:\n",
        "    print(\"Pode receber uma proposta especial.\")\n",
        "else:\n",
        "    print(\"Não atende aos critérios.\")"
      ],
      "metadata": {
        "id": "VM-E7AkehoeG"
      },
      "execution_count": null,
      "outputs": []
    },
    {
      "cell_type": "markdown",
      "source": [
        "  * **4.5.3 not (não) :**\n",
        "\n",
        "  O operador not inverte o valor lógico da condição. Se a condição for True, not a transforma em False, e vice-versa."
      ],
      "metadata": {
        "id": "2RAoyvwahwde"
      }
    },
    {
      "cell_type": "code",
      "source": [
        "tem_divida = False\n",
        "\n",
        "if not tem_divida:\n",
        "    print(\"Pode solicitar um novo empréstimo.\")\n",
        "else:\n",
        "    print(\"Resolva suas dívidas primeiro.\")\n"
      ],
      "metadata": {
        "id": "Lu_CHku-iAHx"
      },
      "execution_count": null,
      "outputs": []
    },
    {
      "cell_type": "markdown",
      "source": [
        "![{FB380CC9-1543-40F1-941A-0979C9B50147}.png](data:image/png;base64,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)"
      ],
      "metadata": {
        "id": "TjOGhXfDil0N"
      }
    },
    {
      "cell_type": "markdown",
      "source": [
        "![{A6DD04C8-D005-49D3-BF07-6C2198B057BB}.png](data:image/png;base64,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)\n",
        "\n",
        "---"
      ],
      "metadata": {
        "id": "Q77HwrFkiu-f"
      }
    },
    {
      "cell_type": "markdown",
      "source": [
        "# **5 - Estruturas de Repetição**\n",
        "As estruturas de repetição são fundamentais na programação, permitindo que um bloco de código seja executado várias vezes sem precisar ser reescrito manualmente. Isso é útil quando queremos automatizar tarefas repetitivas ou quando precisamos processar grandes volumes de dados.\n",
        "\n",
        "\n",
        "*   **O que são estruturas de repetição?**\n",
        "\n",
        "Em Python, as estruturas de repetição são usadas para executar um conjunto de instruções enquanto uma condição for verdadeira (ou por um número específico de vezes). As principais estruturas de repetição em Python são:\n",
        "\n",
        "---\n"
      ],
      "metadata": {
        "id": "t-jUo67FrLfi"
      }
    },
    {
      "cell_type": "markdown",
      "source": [
        "## **5.1   O Loop while:**\n",
        "\n",
        "O loop while repete um bloco de código enquanto uma condição for verdadeira. Ele é ideal para situações em que não sabemos, de antemão, quantas vezes o loop será executado, mas temos uma condição para encerrar o processo.\n",
        "\n",
        "**Sintaxe**"
      ],
      "metadata": {
        "id": "XgDaHPPvcsKJ"
      }
    },
    {
      "cell_type": "code",
      "source": [
        "while condição:\n",
        "    # bloco de código que será repetido"
      ],
      "metadata": {
        "id": "9OlfgDGgs78p"
      },
      "execution_count": null,
      "outputs": []
    },
    {
      "cell_type": "markdown",
      "source": [
        "**Exemplo**\n",
        "\n",
        "Vamos criar um programa que imprime os números de 1 a 5:"
      ],
      "metadata": {
        "id": "vQMV4aPCtHV7"
      }
    },
    {
      "cell_type": "markdown",
      "source": [
        "**Manualmente:**"
      ],
      "metadata": {
        "id": "f6IRFiu2texe"
      }
    },
    {
      "cell_type": "code",
      "source": [
        "print(1)\n",
        "print(2)\n",
        "print(3)\n",
        "print(4)\n",
        "print(5)"
      ],
      "metadata": {
        "id": "xrDSLAD9tW2g"
      },
      "execution_count": null,
      "outputs": []
    },
    {
      "cell_type": "markdown",
      "source": [],
      "metadata": {
        "id": "upf4xGicX6KN"
      }
    },
    {
      "cell_type": "markdown",
      "source": [
        "**Com o Loop while:**"
      ],
      "metadata": {
        "id": "n1TIZNGutiKJ"
      }
    },
    {
      "cell_type": "code",
      "source": [
        "contador = 1\n",
        "while contador <= 5:\n",
        "    print(contador)\n",
        "    contador += 1  # Incrementa o contador em 1 a cada repetição"
      ],
      "metadata": {
        "id": "hIiZVeCitJzx"
      },
      "execution_count": null,
      "outputs": []
    },
    {
      "cell_type": "markdown",
      "source": [
        "**Exemplo com condição de parada**\n",
        "\n",
        "Um loop while também pode ser usado para verificar uma condição de entrada. Por exemplo:"
      ],
      "metadata": {
        "id": "qDxrwPCjt02E"
      }
    },
    {
      "cell_type": "code",
      "source": [
        "resposta = \"\"\n",
        "while resposta != \"sair\":\n",
        "    resposta = input(\"Digite algo (ou 'sair' para encerrar): \")\n",
        "    print(\"Você digitou:\", resposta)\n"
      ],
      "metadata": {
        "id": "a-mEDCGOt425"
      },
      "execution_count": null,
      "outputs": []
    },
    {
      "cell_type": "markdown",
      "source": [
        "---\n",
        "## **5.2 O Loop for:**\n",
        "\n",
        "O loop for é mais usado quando sabemos quantas vezes queremos que o código seja repetido ou queremos iterar sobre uma lista, intervalo ou sequência.\n",
        "\n",
        "**Sintaxe**"
      ],
      "metadata": {
        "id": "XfBTPOdXuPo4"
      }
    },
    {
      "cell_type": "code",
      "source": [
        "for variável in sequência:\n",
        "    # bloco de código que será repetido"
      ],
      "metadata": {
        "id": "mu2uutzRud7C"
      },
      "execution_count": null,
      "outputs": []
    },
    {
      "cell_type": "markdown",
      "source": [
        "\n",
        "\n",
        "*   variável: Uma variável que assume o valor de cada elemento da sequência em cada iteração.\n",
        "*   sequência: A sequência de elementos sobre a qual você deseja iterar (lista, string, etc.).\n",
        "\n"
      ],
      "metadata": {
        "id": "gihjrmNgwPQi"
      }
    },
    {
      "cell_type": "code",
      "source": [
        "for i in range(1,6,1):\n",
        "  print(i)\n"
      ],
      "metadata": {
        "id": "iASPej9Gwt7X"
      },
      "execution_count": null,
      "outputs": []
    },
    {
      "cell_type": "code",
      "source": [
        "# Iterando sobre uma lista\n",
        "frutas = [\"maçã\", \"banana\", \"laranja\"]\n",
        "for fruta in frutas:\n",
        "  print(fruta)"
      ],
      "metadata": {
        "id": "DNVPgUVMyhmM"
      },
      "execution_count": null,
      "outputs": []
    },
    {
      "cell_type": "code",
      "source": [
        "# Iterando sobre uma string\n",
        "for letra in \"Python\":\n",
        "  print(letra)"
      ],
      "metadata": {
        "id": "PsNAw1jeyoVd"
      },
      "execution_count": null,
      "outputs": []
    },
    {
      "cell_type": "code",
      "source": [
        "# Iterando sobre um range de números\n",
        "for i in range(5):\n",
        "  print(i)"
      ],
      "metadata": {
        "id": "oUvnxdrvyqw8"
      },
      "execution_count": null,
      "outputs": []
    },
    {
      "cell_type": "markdown",
      "source": [
        "**Função range()**\n",
        "\n",
        "A função range() é muito utilizada com o loop for para gerar uma sequência de números. Ela possui três parâmetros opcionais:"
      ],
      "metadata": {
        "id": "nEHlkmDvy7vc"
      }
    },
    {
      "cell_type": "code",
      "source": [
        "range(start, stop, step)"
      ],
      "metadata": {
        "id": "THpiqKV3zDzB"
      },
      "execution_count": null,
      "outputs": []
    },
    {
      "cell_type": "markdown",
      "source": [
        "\n",
        "\n",
        "*   start: O valor inicial da sequência (default: 0).\n",
        "*   stop: O valor final da sequência (não incluído).\n",
        "*   step: O incremento entre cada valor (default: 1).\n",
        "\n",
        "\n"
      ],
      "metadata": {
        "id": "sX1owlZCzFKr"
      }
    },
    {
      "cell_type": "code",
      "source": [
        "for i in range(2, 10, 2):\n",
        "  print(i)  # Imprime os números pares de 2 a 8"
      ],
      "metadata": {
        "id": "kJRnAmH-zgLO"
      },
      "execution_count": null,
      "outputs": []
    },
    {
      "cell_type": "markdown",
      "source": [
        "**Resumo:**\n",
        "\n",
        "* while: Ideal quando você não sabe o número de iterações antecipadamente, mas tem uma condição de parada.\n",
        "\n",
        "* for: Ideal quando você sabe o número exato de repetições ou quando deseja iterar sobre uma sequência (como uma lista, string, etc.)."
      ],
      "metadata": {
        "id": "D_gxnUUpz0-5"
      }
    },
    {
      "cell_type": "markdown",
      "source": [
        "**EXEMPLO:**\n",
        "\n",
        "Vamos criar um código que soma números inteiros a partir de 1 até alcançar um total de 100. Quando o total chega a 100, o loop é interrompido."
      ],
      "metadata": {
        "id": "0BoU161y1SYl"
      }
    },
    {
      "cell_type": "code",
      "source": [
        "total = 0\n",
        "numero = 1\n",
        "\n",
        "while total < 100:\n",
        "    total += numero # total = total + numero\n",
        "    numero += 1 # numero = numero + 1\n",
        "    print(f\"Número: {numero - 1}, Total: {total}\")\n"
      ],
      "metadata": {
        "id": "pAGsXj5X1nti"
      },
      "execution_count": null,
      "outputs": []
    },
    {
      "cell_type": "markdown",
      "source": [
        "**EXEMPLO: JOGO DE ADIVINHAÇÃO:**\n",
        "\n",
        "Crie um jogo onde o computador escolhe um número aleatório entre 1 e 100 e o jogador tenta adivinhar. Utilize um loop while para continuar o jogo até o jogador acertar. Dê dicas ao jogador, como \"O número é maior\" ou \"O número é menor\"."
      ],
      "metadata": {
        "id": "zbqc25Me92qj"
      }
    },
    {
      "cell_type": "code",
      "source": [
        "import random\n",
        "\n",
        "def jogo_adivinhacao():\n",
        "  numero_secreto = random.randint(1, 100)\n",
        "  tentativas = 0\n",
        "\n",
        "  print(\"Bem-vindo ao jogo da adivinhação!\")\n",
        "  print(\"Tente adivinhar o número entre 1 e 100.\")\n",
        "\n",
        "  while True:\n",
        "    chute = int(input(\"Digite seu chute: \"))\n",
        "    tentativas += 1\n",
        "\n",
        "    if chute < numero_secreto:\n",
        "      print(\"O número secreto é maior.\")\n",
        "    elif chute > numero_secreto:\n",
        "      print(\"O número secreto é menor.\")\n",
        "    else:\n",
        "      print(f\"Parabéns! Você acertou em {tentativas} tentativas!\")\n",
        "      break\n",
        "\n",
        "jogo_adivinhacao()"
      ],
      "metadata": {
        "id": "oXC_gy4X9ph6"
      },
      "execution_count": null,
      "outputs": []
    },
    {
      "cell_type": "markdown",
      "source": [
        "**EXERCÍCIOS:**\n",
        "\n",
        "Imprimindo números:\n",
        "\n",
        "1. Crie um programa que utilize um loop for para imprimir todos os números pares de 0 a 100.\n",
        "2. Modifique o programa para imprimir os números ímpares de 1 a 99 utilizando um loop while.\n",
        "Tabuada:\n",
        "3. Crie um programa que utilize um loop for aninhado para imprimir a tabuada do 2 ao 9.\n",
        "\n",
        "Fatorial:\n",
        "\n",
        "4. Crie um programa que calcule o fatorial de um número utilizando um loop for. O usuário deve informar o número.\n",
        "Soma dos números:\n",
        "\n",
        "5. Crie um programa que peça ao usuário para digitar vários números e calcule a soma deles utilizando um loop while. O programa deve parar quando o usuário digitar 0.\n",
        "Contagem de vogais:\n",
        "\n",
        "6. Crie um programa que peça ao usuário para digitar uma frase e conte quantas vogais existem nessa frase utilizando um loop for.\n",
        "Números primos:\n",
        "\n",
        "7. Crie um programa que verifique se um número é primo. Utilize um loop for para verificar se o número é divisível por algum número entre 2 e a sua raiz quadrada.\n",
        "\n",
        "Piramide de números:\n",
        "\n",
        "8. Crie um programa que imprima uma pirâmide de números, como no exemplo abaixo:\n",
        "\n",
        " 1\n",
        "\n",
        " 2 3\n",
        "\n",
        " 4 5 6\n",
        "\n",
        " ---\n"
      ],
      "metadata": {
        "id": "g-MXH5NtDhSA"
      }
    },
    {
      "cell_type": "markdown",
      "source": [
        "# **6 - Coleções**"
      ],
      "metadata": {
        "id": "NneHkp3u-4gs"
      }
    },
    {
      "cell_type": "markdown",
      "source": [
        "Neste capítulo, vamos explorar algumas das estruturas de dados mais comuns em Python: listas, tuplas e dicionários. Elas são fundamentais para organizar e manipular grandes conjuntos de dados de maneira eficiente.\n",
        "\n",
        "---\n",
        "\n",
        "## **6.1   Listas**\n",
        "\n",
        "* O que são listas?\n",
        "\n",
        "São sequências ordenadas de elementos, onde cada elemento pode ser de qualquer tipo de dado (números, strings, outras listas, etc.).\n",
        "\n",
        "São mutáveis, ou seja, você pode adicionar, remover ou modificar elementos após a criação da lista.\n",
        "\n",
        "* Criando listas:"
      ],
      "metadata": {
        "id": "Qm4lf4Es_R9V"
      }
    },
    {
      "cell_type": "code",
      "source": [
        "# Lista vazia\n",
        "minha_lista = []\n",
        "\n",
        "# Lista com elementos\n",
        "numeros = [1, 2, 3, 4, 5]\n",
        "frutas = ['maçã', 'banana', 'laranja']"
      ],
      "metadata": {
        "id": "XVp0g_Rh_seh"
      },
      "execution_count": null,
      "outputs": []
    },
    {
      "cell_type": "markdown",
      "source": [
        "* Acessando elementos:"
      ],
      "metadata": {
        "id": "KnokbQVN_0Hr"
      }
    },
    {
      "cell_type": "code",
      "source": [
        "# Acessando o primeiro elemento (índice 0)\n",
        "primeiro_elemento = numeros[0]\n",
        "print(primeiro_elemento)\n",
        "# Acessando o último elemento\n",
        "ultimo_elemento = frutas[-1]\n",
        "print(ultimo_elemento)"
      ],
      "metadata": {
        "colab": {
          "base_uri": "https://localhost:8080/"
        },
        "id": "uc9lOmum_5iB",
        "outputId": "06f053f2-e421-4862-c677-3990f3ef4932"
      },
      "execution_count": null,
      "outputs": [
        {
          "output_type": "stream",
          "name": "stdout",
          "text": [
            "1\n",
            "laranja\n"
          ]
        }
      ]
    },
    {
      "cell_type": "markdown",
      "source": [
        "* Fatiando listas:"
      ],
      "metadata": {
        "id": "Wr684WE6AIVo"
      }
    },
    {
      "cell_type": "code",
      "source": [
        "# Criando uma sublista\n",
        "sublista = numeros[1:4]  # Elementos do índice 1 até 3\n",
        "print(sublista)"
      ],
      "metadata": {
        "id": "IK9df4ysALob"
      },
      "execution_count": null,
      "outputs": []
    },
    {
      "cell_type": "markdown",
      "source": [
        "* Modificando listas:"
      ],
      "metadata": {
        "id": "XFQayCmFAYbs"
      }
    },
    {
      "cell_type": "code",
      "source": [
        "# Adicionando um elemento ao final\n",
        "numeros.append(6)\n",
        "\n",
        "# Inserindo um elemento em uma posição específica\n",
        "frutas.insert(2, 'uva')\n",
        "\n",
        "# Removendo um elemento pelo valor\n",
        "frutas.remove('banana')\n",
        "\n",
        "# Removendo um elemento pela posição\n",
        "del numeros[0]"
      ],
      "metadata": {
        "id": "71IZ5zvmAbgL"
      },
      "execution_count": null,
      "outputs": []
    },
    {
      "cell_type": "markdown",
      "source": [
        "**Métodos importantes:**\n",
        "\n",
        "* **append():** Adiciona um elemento ao final da lista.\n",
        "\n",
        "* **insert():** Insere um elemento em uma posição específica.\n",
        "\n",
        "* **remove():** Remove o primeiro elemento com o valor especificado.\n",
        "\n",
        "* **pop():** Remove e retorna o elemento em uma posição específica.\n",
        "\n",
        "* **index():** Retorna o índice da primeira ocorrência de um valor.\n",
        "\n",
        "* **count():** Conta o número de ocorrências de um valor.\n",
        "\n",
        "* **sort():** Ordena os elementos da lista.\n",
        "\n",
        "* **reverse():** Inverte a ordem dos elementos da lista."
      ],
      "metadata": {
        "id": "jaEyAA0jAfmD"
      }
    },
    {
      "cell_type": "markdown",
      "source": [
        "\n",
        "\n",
        "---\n",
        "\n",
        "\n",
        "## **6.2   Tuplas**\n",
        "\n",
        "* O que são tuplas?\n",
        "\n",
        "Tupla é uma estrutura de dados semelhante a lista. Porém, ela tem a característica de ser imutável, ou seja, após uma tupla ser criada, ela não pode ser alterada.\n",
        "\n",
        "* Criando tuplas:"
      ],
      "metadata": {
        "id": "ZpMbFBzMFiKY"
      }
    },
    {
      "cell_type": "code",
      "source": [
        "coresArcoIris = (\"vermelho\", \"laranja\", \"amarelo\", \"verde\", \"azul\", \"anil\", \"violeta\")\n",
        "\n",
        "print(type(coresArcoIris))  # <class 'tuple'>\n",
        "print(coresArcoIris)       # ('vermelho', 'laranja', 'amarelo', 'verde', 'azul', 'anil', 'violeta')\n"
      ],
      "metadata": {
        "colab": {
          "base_uri": "https://localhost:8080/"
        },
        "id": "ZIZJM16eFiKZ",
        "outputId": "ef39bb81-e8bb-4f0f-d003-0128b1d863fb"
      },
      "execution_count": null,
      "outputs": [
        {
          "output_type": "stream",
          "name": "stdout",
          "text": [
            "<class 'tuple'>\n",
            "('vermelho', 'laranja', 'amarelo', 'verde', 'azul', 'anil', 'violeta')\n"
          ]
        }
      ]
    },
    {
      "cell_type": "markdown",
      "source": [
        "Assim como é feito nas listas, podemos acessar um determinado valor na tupla pelo seu índice."
      ],
      "metadata": {
        "id": "CF2wiOFXHIZy"
      }
    },
    {
      "cell_type": "code",
      "source": [
        "print(coresArcoIris[2])"
      ],
      "metadata": {
        "colab": {
          "base_uri": "https://localhost:8080/"
        },
        "id": "fnaYtOcQHHrK",
        "outputId": "375c9745-13d1-4077-f079-7b44936b063a"
      },
      "execution_count": null,
      "outputs": [
        {
          "output_type": "stream",
          "name": "stdout",
          "text": [
            "amarelo\n"
          ]
        }
      ]
    },
    {
      "cell_type": "markdown",
      "source": [
        "Uma observação importante sobre o uso de tuplas é que, ao criar uma tupla com apenas um único elemento, é necessário incluir uma vírgula após esse elemento. Caso contrário, o objeto criado será interpretado como uma string (se o valor for do tipo string), e não como uma tupla."
      ],
      "metadata": {
        "id": "qI3Rjao8HjR7"
      }
    },
    {
      "cell_type": "code",
      "source": [
        "semVirgula = (\"vermelho\")\n",
        "comVirgula = (\"vermelho\",)\n",
        "\n",
        "print(type(semVirgula))  # Saída: <class 'str'>\n",
        "print(type(comVirgula))  # Saída: <class 'tuple'>\n"
      ],
      "metadata": {
        "colab": {
          "base_uri": "https://localhost:8080/"
        },
        "id": "wspmOGmIHtsE",
        "outputId": "26c2915e-667a-4430-8920-1c6d3078f55e"
      },
      "execution_count": null,
      "outputs": [
        {
          "output_type": "stream",
          "name": "stdout",
          "text": [
            "<class 'str'>\n",
            "<class 'tuple'>\n"
          ]
        }
      ]
    },
    {
      "cell_type": "markdown",
      "source": [
        "----\n",
        "\n",
        "\n",
        "## **6.3   Dicionários**"
      ],
      "metadata": {
        "id": "RXAWjs5gA2IB"
      }
    },
    {
      "cell_type": "markdown",
      "source": [
        "* **O que são dicionários?**\n",
        "\n",
        "São coleções de pares chave-valor, onde cada chave é única e associada a um valor.\n",
        "São mutáveis, assim como as listas.\n",
        "\n",
        "* Criando dicionários:"
      ],
      "metadata": {
        "id": "wGBjA66BBPcP"
      }
    },
    {
      "cell_type": "code",
      "source": [
        "# Dicionário vazio\n",
        "meu_dicionario = {}\n",
        "\n",
        "# Dicionário com elementos\n",
        "aluno = {'nome': 'João', 'idade': 20, 'notas': [8, 7, 9]}"
      ],
      "metadata": {
        "id": "GPfU0--KBjUq"
      },
      "execution_count": null,
      "outputs": []
    },
    {
      "cell_type": "markdown",
      "source": [
        "* Acessando valores:"
      ],
      "metadata": {
        "id": "JeD7mrTkBqyf"
      }
    },
    {
      "cell_type": "code",
      "source": [
        "nome_do_aluno = aluno['nome']"
      ],
      "metadata": {
        "id": "SDU_W_bABsZj"
      },
      "execution_count": null,
      "outputs": []
    },
    {
      "cell_type": "markdown",
      "source": [
        "* Modificando dicionários:"
      ],
      "metadata": {
        "id": "YzwMYrUVBvC2"
      }
    },
    {
      "cell_type": "code",
      "source": [
        "# Adicionando um novo par chave-valor\n",
        "aluno['curso'] = 'Ciência da Computação'\n",
        "\n",
        "# Modificando um valor existente\n",
        "aluno['idade'] = 21"
      ],
      "metadata": {
        "id": "jfsotK17Bxq6"
      },
      "execution_count": null,
      "outputs": []
    },
    {
      "cell_type": "markdown",
      "source": [
        "* **Métodos importantes:**\n",
        "\n",
        "* **keys():** Retorna uma lista com todas as chaves.\n",
        "* **values():** Retorna uma lista com todos os valores.\n",
        "* **items():** Retorna uma lista de tuplas (chave, valor).\n",
        "* **get():** Retorna o valor associado a uma chave, ou um valor padrão se a chave não existir."
      ],
      "metadata": {
        "id": "z4-0yAaIBzsv"
      }
    },
    {
      "cell_type": "markdown",
      "source": [
        "**EXERCÍCIOS:**\n",
        "1. Crie uma lista com os nomes de seus amigos e imprima cada nome em uma linha separada.\n",
        "\n",
        "2. Crie um dicionário que represente um contato telefônico, com as chaves 'nome', 'telefone' e 'email'.\n",
        "\n",
        "3. Crie uma lista de dicionários, onde cada dicionário representa um produto com as chaves 'nome', 'preço' e 'quantidade'.\n",
        "\n",
        "4. Escreva um programa que leia uma lista de números e calcule a média.\n",
        "\n",
        "5. Crie uma tupla chamada frutas contendo os seguintes elementos: \"maçã\", \"banana\", \"uva\", \"laranja\" e \"morango\". Exiba o terceiro elemento da tupla e descubra o índice (posição) da fruta \"laranja\".\n",
        "\n",
        "6. Crie um programa que leia uma lista de palavras e conte quantas vezes cada palavra aparece.\n",
        "\n",
        "7. Crie um programa que permita cadastrar alunos. Cada aluno deve ter um nome, idade e uma lista de notas. Utilize um dicionário para representar cada aluno e uma lista para armazenar todos os alunos.\n",
        "\n",
        "---\n",
        "\n",
        "\n"
      ],
      "metadata": {
        "id": "7ZNvIP7SCL3P"
      }
    },
    {
      "cell_type": "markdown",
      "source": [
        "#**7 - Funções**\n",
        "Funções são sequencias de instruções (código) que  damos um determinado nome, nós chamamos esse nome de *identificador*. É através desse identificador que podemos *chamar* uma função. Ao chamar uma função, o computador executa as instruções/código escritos dentro da função. Uma função pode ser chamada quantas vezes quisermos. Esse é o principal objetivo de uma função, sempre que quisermos criar uma seção de código que será usada diversas vezes em diferentes partes de um programa podemos criar uma função. A função é também uma ferramenta importante para a organização do código para deixá-lo mais legível.\n",
        "\n",
        "Embora não tenha sido explicitado, já aprendemos a chamar uma função anteriormente nos capítulos 3 e 4 através das funções print() e input(). Esses são exemplos clássicos de funções embutidas (ou \"built-in\"). Funções embutidas são aquelas que estão prontamente disponíveis no ambiente Python sem a necessidade de importação de módulos adicionais. Neste capítulo vamos aprender a escrever as nossas próprias funções para executar tarefas específicas e serem chamadas quantas vezes forem necessárias em um programa, assim como fizemos com a função print()."
      ],
      "metadata": {
        "id": "-X8KGjw43z84"
      }
    },
    {
      "cell_type": "markdown",
      "source": [
        "---\n",
        "##7.1 - Criando sua própria função\n",
        "Antes que uma função possa ser chamada é necessário que ela seja *definida*. A definição de qualquer função começa com a palavra *def* (abreviação de *define*, definir em inglês). Em seguida damos um nome a função, seguido de parenteses e dois pontos. Chamamos isso de cabeçalho da função. O que vem depois dos dois pontos na linha seguinte precisa estar indentado assim como acontece nos blocos de código das estruturas de repetição e condicionais como o *while* e o *if*. Chamamos o código dentro da função de *corpo* da função e é nele que iremos escrever o bloco de código com as instruções que desejamos que a função execute ao ser chamada.\n",
        "\n",
        "Exemplo da sintaxe de uma função:"
      ],
      "metadata": {
        "id": "phST7KLaQRt0"
      }
    },
    {
      "cell_type": "code",
      "source": [
        "def mensagem(): #definimos a função\n",
        "  print(\"Olá, essa é minha primeira função!\") #código da função"
      ],
      "metadata": {
        "id": "3XrZLCbADkNm"
      },
      "execution_count": null,
      "outputs": []
    },
    {
      "cell_type": "markdown",
      "source": [
        "Experimente executar o código acima e você vai perceber que nada parece acontecer. Isso por que, como mencionado anteriormente, para que as instruções de uma função sejam executadas precisamos *chamar* ela. O bloco de código de uma função só é executado quando chamamos ela. Para chamar uma função seguimos a mesma sintaxe que usamos para chamar a função print(). Escrevemos o nome da função seguida de parenteses:"
      ],
      "metadata": {
        "id": "szTlFJd7D5WV"
      }
    },
    {
      "cell_type": "code",
      "source": [
        "def mensagem(): #definimos a função\n",
        "  print(\"Olá, essa é minha primeira função!\") #código da função\n",
        "\n",
        "mensagem() #chamamos a função"
      ],
      "metadata": {
        "colab": {
          "base_uri": "https://localhost:8080/"
        },
        "id": "LnWeuqtgEc2D",
        "outputId": "20decd86-0b61-4cd6-ffb4-6355f8c8823b"
      },
      "execution_count": null,
      "outputs": [
        {
          "output_type": "stream",
          "name": "stdout",
          "text": [
            "Essa é minha primeira função!\n"
          ]
        }
      ]
    },
    {
      "cell_type": "markdown",
      "source": [
        "Como mencionado anteriormente, uma vez que definimos uma função podemos chamá-las quantas vezes forem necessárias dentro do código:"
      ],
      "metadata": {
        "id": "r7Im5jPaGfU6"
      }
    },
    {
      "cell_type": "code",
      "source": [
        "def mensagem():\n",
        "  print(\"Olá, essa é minha primeira função!\")\n",
        "\n",
        "mensagem()\n",
        "mensagem()\n",
        "mensagem()"
      ],
      "metadata": {
        "colab": {
          "base_uri": "https://localhost:8080/"
        },
        "id": "kSIHdcHMGrrk",
        "outputId": "7b72d538-51dd-4e32-cc55-28f76ffaafe9"
      },
      "execution_count": null,
      "outputs": [
        {
          "output_type": "stream",
          "name": "stdout",
          "text": [
            "Essa é minha primeira função!\n",
            "Essa é minha primeira função!\n",
            "Essa é minha primeira função!\n"
          ]
        }
      ]
    },
    {
      "cell_type": "markdown",
      "source": [
        "Sobre a nomenclatura de uma função no Python: é considerado de bom tom seguir algumas melhores práticas para garantir a clareza e a manutenibilidade do código. Primeiramente, utilize nomes descritivos e autoexplicativos que reflitam claramente a finalidade da função. Isso ajuda outros desenvolvedores (e você mesmo no futuro) a entenderem o que a função faz sem precisar ler todo o seu conteúdo. Tipicamente no Python usamos uma convenção de nomenclatura chamada snake_case, onde palavras são separadas por sublinhados, como calcular_media ou converter_temperatura. Evite abreviações desnecessárias, a menos que sejam amplamente reconhecidas, e prefira verbos no infinitivo para funções que executam ações, como imprimir_relatorio ou buscar_dados. Seguir essas práticas resulta em um código mais limpo e legível. Um exemplo de um bom nome para uma função:"
      ],
      "metadata": {
        "id": "tYFO4u2fGxcm"
      }
    },
    {
      "cell_type": "code",
      "source": [
        "def calcular_area_retangulo():\n",
        "  base = 10\n",
        "  altura = 5\n",
        "  area = base*altura\n",
        "  print(area)\n",
        "\n",
        "calcular_area_retangulo()"
      ],
      "metadata": {
        "colab": {
          "base_uri": "https://localhost:8080/"
        },
        "id": "Dr5zppxs-ypl",
        "outputId": "6c4ee94a-ed07-4fab-9dae-5bc364c4ab56"
      },
      "execution_count": null,
      "outputs": [
        {
          "output_type": "stream",
          "name": "stdout",
          "text": [
            "50\n"
          ]
        }
      ]
    },
    {
      "cell_type": "markdown",
      "source": [
        "---\n",
        "##7.2 - Funções com parâmetros\n",
        "Na seção anterior nós criamos uma função capaz de calcular a area de um retângulo de valores fixos (comprimento 10 e altura 5). Essa função é um pouco limitada.  Ao invés disso, seria melhor criarmos uma função capaz de calcular a área de qualquer retângulo de qualquer tamanho. Isso é possível por meio de *parâmetros*.\n",
        "\n",
        "Parâmetros, às vezes também chamados de *argumentos*, são valores ou variáveis que passamos a uma função quando chamamos ela. Esse valores podem alterar o que uma função faz, uma vez que eles podem ser usados dentro da função. Os parâmetros de uma função são passados dentros dos parênteses ao chamá-la. Novamente, chamamos a atenção para a primeira função que aprendemos nesse documento: print(). A função print leva como parâmetro o texto que será impresso no console, por exemplo:"
      ],
      "metadata": {
        "id": "e_wFR0ZgIUqf"
      }
    },
    {
      "cell_type": "code",
      "source": [
        "print(\"Olá mundo!\") # o parâmetro ou argumento dessa função print é a string \"Olá mundo!\""
      ],
      "metadata": {
        "id": "WLFE0MHnCz3w"
      },
      "execution_count": null,
      "outputs": []
    },
    {
      "cell_type": "markdown",
      "source": [
        "Vamos usar nosso conhecimento de parâmetros para melhorar a função anterior de calcular a área de um retângulo. Dessa vez vamos passar como parametros os valores da base e da altura do retângulo que desejamos calcular. Note no entanto que para que isso aconteça precisamos alterar a função original e definir entre parênteses os parâmetros que devem ser esperados ao chamar a função. Caso a função possua mais de um parâmetro eles devem estar separados por vírgula:"
      ],
      "metadata": {
        "id": "MeTj--z1DLoZ"
      }
    },
    {
      "cell_type": "code",
      "source": [
        "def calcular_area_retangulo(base, altura): #definimos a função com dois parâmetros separados por vírgula: base, altura\n",
        "  area = base*altura #usamos os valores recebidos nos parâmetros para calcular a area\n",
        "  print(area)\n",
        "\n",
        "calcular_area_retangulo(10, 5) #ao chamarmos a função passamos como parâmetros os valores da base e da altura a serem calculados, note que a ordem deve ser respeitada\n",
        "calcular_area_retangulo(20, 10)"
      ],
      "metadata": {
        "colab": {
          "base_uri": "https://localhost:8080/"
        },
        "id": "t_z3G7qiD6N4",
        "outputId": "5b46f129-a971-4ffa-c01b-8008ff389286"
      },
      "execution_count": null,
      "outputs": [
        {
          "output_type": "stream",
          "name": "stdout",
          "text": [
            "50\n",
            "200\n"
          ]
        }
      ]
    },
    {
      "cell_type": "markdown",
      "source": [
        "Perceba que agora podemos chamar a função múltiplas vezes e calcular a área de retângulos de diferentes tamanhos. Mas, fica ainda melhor: além de valores, também é possível passar variáveis como parâmetros de funções e isso abre um leque de possibilidades permitindo programas mais sofisticados. Por exemplo podemos modificar o código anterior para criar um programa que calcula a área de um retângulo com base nas medidas passadas pelo usuário:"
      ],
      "metadata": {
        "id": "odzge3ddEH30"
      }
    },
    {
      "cell_type": "code",
      "source": [
        "def calcular_area_retangulo(base, altura):\n",
        "  area = base*altura\n",
        "  print(f\"Área do retângulo = {area}\")\n",
        "\n",
        "base = input(\"Informe a base: \")\n",
        "base = int(base)\n",
        "\n",
        "altura = input(\"Informe a altura: \")\n",
        "altura = int(altura)\n",
        "\n",
        "calcular_area_retangulo(base, altura)"
      ],
      "metadata": {
        "colab": {
          "base_uri": "https://localhost:8080/"
        },
        "id": "NZ1hUGKPOKpE",
        "outputId": "71af38f6-2221-4435-eade-d47e566107a2"
      },
      "execution_count": null,
      "outputs": [
        {
          "output_type": "stream",
          "name": "stdout",
          "text": [
            "Informe a base: 10\n",
            "Informe a altura: 5\n",
            "Área do retângulo = 50\n"
          ]
        }
      ]
    },
    {
      "cell_type": "markdown",
      "source": [
        "Até então todas as funções que vimos foram auto-contidas. No entanto, muitas vezes ao codificar precisamos usar os valores calculados em uma função em outra parte do código, ou até mesmo usá-los como parâmetros para outras funções. Isso se torna possível com o *return*. Return (do inglês retorno), como o próprio nome sugere, nada mais é do que o retorno de uma função. O retorno de uma função pode ser um número inteiro, booleano, uma string, uma lista ou qualquer outro valor necessário. Dessa forma, ao invés de imprimir o área do retângulo dentro da função, podemos retornar o valor da área para o ponto do código onde chamamos originalmente a função:  "
      ],
      "metadata": {
        "id": "9p88bb5APWcu"
      }
    },
    {
      "cell_type": "code",
      "source": [
        "def calcular_area_retangulo(base, altura):\n",
        "  area = base*altura\n",
        "  return area\n",
        "\n",
        "base = input(\"Informe a base: \")\n",
        "base = int(base)\n",
        "\n",
        "altura = input(\"Informe a altura: \")\n",
        "altura = int(altura)\n",
        "\n",
        "area = calcular_area_retangulo(base, altura)\n",
        "print(area)"
      ],
      "metadata": {
        "colab": {
          "base_uri": "https://localhost:8080/"
        },
        "id": "ZIM9yT9lReG1",
        "outputId": "4719a299-baf7-4d0b-9b5b-bf32793b2655"
      },
      "execution_count": null,
      "outputs": [
        {
          "output_type": "stream",
          "name": "stdout",
          "text": [
            "Informe a base: 10\n",
            "Informe a altura: 5\n",
            "50\n"
          ]
        }
      ]
    },
    {
      "cell_type": "markdown",
      "source": [
        "O código acima pode parecer inconsequente em relação ao anterior, afinal, o resultado final é o mesmo. No entanto, como veremos nos projetos 1 e 2 no fim do material, retornar o valor de uma função para que ele possa ser usado posteriormente é uma ferramenta essencial na programação."
      ],
      "metadata": {
        "id": "HZ0Fe5jBRno0"
      }
    },
    {
      "cell_type": "markdown",
      "source": [
        "###7.2.1 - Variáveis globais e variáveis locais\n",
        "Temos aprendido e usado variáveis desde o capítulo 2, mas até então não havíamos definido o conceito de variáveis locais e globais. Afinal, não havia necessidade, pois estávamos trabalhando com código simples, sem funções separadas. No entanto, agora que introduzimos o conceito de função, precisamos falar sobre variáveis globais e locais.\n",
        "\n",
        "Variáveis globais são aquelas definidas fora de qualquer função e são acessíveis em todo o código, incluindo dentro de funções. Já variáveis locais são aquelas definidas dentro de uma função e só podem ser utilizadas dentro do escopo dessa função. Isso significa que uma variável local não interfere e não pode ser acessada fora da função onde foi criada.\n",
        "\n",
        "Vamos tentar entender isso com exemplos."
      ],
      "metadata": {
        "id": "3RK14LFLOm6u"
      }
    },
    {
      "cell_type": "code",
      "source": [
        "nome = \"Marcos\"\n",
        "def mensagem(x):\n",
        "  print(\"Olá\", nome)\n",
        "\n",
        "mensagem(\"Pedro\")\n",
        "mensagem(\"Ana\")"
      ],
      "metadata": {
        "colab": {
          "base_uri": "https://localhost:8080/"
        },
        "id": "O5dpNL28Ztgn",
        "outputId": "adfd3c27-684e-40a3-e03d-de387d36cac2"
      },
      "execution_count": null,
      "outputs": [
        {
          "output_type": "stream",
          "name": "stdout",
          "text": [
            "Olá Marcos\n",
            "Olá Marcos\n"
          ]
        }
      ]
    },
    {
      "cell_type": "markdown",
      "source": [
        "Antes de executar o código acima, qual você acha que vai ser o resultado? Se você pensou \"Olá Marcos\" você está correto, experimente rodar o código agora. Isso porque estamos usando uma variável global, definida fora do escopo da função, mas que pode ser acessada por ela. Não importa quantas vezes chamamos essa função ela sempre irá imprimir o valor \"Marcos\" armazenado em uma variável global. Utilizar variáveis globais dentro de funções é normalmente uma má ideia. Entre outros problemas, isso pode causar bugs que são difíceis de rastrear.\n",
        "\n",
        "Uma variável local por sua vez, diferente da variável global, só pode ser acessada pela função onde foi definida. A seguir temos um código com um erro onde tentamos acessar uma variável local fora do escopo da função onde ela foi escrita:\n",
        "\n"
      ],
      "metadata": {
        "id": "go5bjRZ_aUx8"
      }
    },
    {
      "cell_type": "code",
      "source": [
        "def mensagem(nome_usuario):\n",
        "  sobrenome = \"Souza\"\n",
        "  print(\"Olá\", nome_usuario)\n",
        "\n",
        "mensagem(\"Marcos\")\n",
        "print(sobrenome)"
      ],
      "metadata": {
        "id": "SH9HP3GIdJFK"
      },
      "execution_count": null,
      "outputs": []
    },
    {
      "cell_type": "markdown",
      "source": [
        "Ao tentar executar esse código acima recebemos o seguinte erro: \"NameError: name 'sobrenome' is not defined\". Traduzindo: a variavel 'sobrenome' não foi definida, nesse caso estamos tentando acessar uma variável local da função 'mensagem' fora do escopo dela. Ter em mente a diferença entre variáveis locais e globais é importante para evitar conflitos e garantir que o código funcione conforme esperado, especialmente em projetos maiores e mais complexos."
      ],
      "metadata": {
        "id": "Gcgt9RCndfAm"
      }
    },
    {
      "cell_type": "markdown",
      "source": [
        "---\n",
        "\n",
        "##7.3 - Importando biblitecas e consultando funções\n",
        "escreva um pequeno texto com os seguintes pontos: Até agora vimos como usar funções embutidas (built-in) do Python e como criar nossas próprias. Mas programação não é sobre reinventar a roda. E muitos desenvolvedores que vieram antes de nós já codificaram funções incríveis que podemos usar. Fazemos isso importando bibliotecas. *aqui vc escreve uma pequena definição do que é uma biblioteca*. *em seguida vc fala das vantagens de usar uma biblioteca*. E termina o texto com um exemplo de bilbioteca simples, útil, facil para iniciantes que demostre o uso de uma função ao invés de criar algo do zero. Comece um novo parágrafo comentando como consultar as funções de uma biblioteca pelo console, comandos ou outros métodos e como descobrir novas bibliotecas.\n",
        "Até agora vimos como usar funções embutidas (built-in) do Python e como criar nossas próprias. Mas programação não é sobre reinventar a roda. E muitos desenvolvedores que vieram antes de nós já codificaram funções incríveis que podemos usar. Fazemos isso importando bibliotecas.\n",
        "\n",
        "Uma biblioteca é uma coleção de módulos e funções pré-escritos que podem ser usados para realizar tarefas específicas sem a necessidade de codificar tudo do zero. Elas abrangem uma ampla gama de funcionalidades, desde manipulação de dados até visualização gráfica e aprendizado de máquina.\n",
        "\n",
        "As vantagens de usar uma biblioteca são inúmeras. Elas economizam tempo e esforço, permitindo que os desenvolvedores se concentrem em problemas mais complexos ao invés de escrever código repetitivo. Além disso, bibliotecas são geralmente mantidas por uma comunidade de desenvolvedores, garantindo que elas sejam bem testadas, documentadas e otimizadas.\n",
        "\n",
        "Um exemplo simples e útil de biblioteca é a math, que oferece uma variedade de funções matemáticas. Por exemplo, ao invés de criar uma função para calcular a raiz quadrada de um número, podemos simplesmente usar math.sqrt(). Veja como é fácil:"
      ],
      "metadata": {
        "id": "xB09-KB6DtLN"
      }
    },
    {
      "cell_type": "code",
      "source": [
        "import math\n",
        "\n",
        "num = 16\n",
        "raiz_quadrada = math.sqrt(num)\n",
        "print(f\"A raiz quadrada de {num} é {raiz_quadrada}\")\n"
      ],
      "metadata": {
        "colab": {
          "base_uri": "https://localhost:8080/"
        },
        "id": "wpmxYQ1P4mxs",
        "outputId": "a39da369-3c0a-4073-c9e6-bcd2fdfbfd1a"
      },
      "execution_count": null,
      "outputs": [
        {
          "output_type": "stream",
          "name": "stdout",
          "text": [
            "A raiz quadrada de 16 é 4.0\n"
          ]
        }
      ]
    },
    {
      "cell_type": "markdown",
      "source": [
        "Esse código usa a função sqrt() da biblioteca math para calcular a raiz quadrada de um número.\n",
        "\n",
        "Para saber mais detalhes de qualquer função, embutida ou de uma biblioteca, você pode usar o comando help(), que exibe a documentação do módulo ou função especificada. Experimente digitar no python, ou no console do VSCode, help(list), help(math) ou help(string) por exemplo e o console mostrará a documentação e o que você pode fazer com cada função. Também é possível acessar a documentação oficial do Python e outras fontes online, como o PyPI (Python Package Index), para descobrir novas bibliotecas e aprender sobre suas funcionalidades. Além disso, comandos como dir() podem listar todos os atributos e métodos de um módulo, o que é útil para explorar suas capacidades.\n",
        "Até agora nós cramos exemplos de código que usam o terminal como meio de interação com o usuário, no nosso projeto final estaremos usando a biblioteca tkinter para criar nossos jogos. A biblioteca tkinter é uma interface padrão do Python para a biblioteca gráfica Tk. Ela permite a criação de aplicativos gráficos de forma relativamente simples e eficiente. Com tkinter, os desenvolvedores podem construir janelas, botões, menus, caixas de texto e outros componentes de interface gráfica para os seus programas. Ou seja, estaremos criando um programa com uma interface gráfica de usuário ao invés de usarmos o terminal.\n",
        "\n",
        "---\n"
      ],
      "metadata": {
        "id": "wObHEWzJ4spv"
      }
    },
    {
      "cell_type": "markdown",
      "source": [
        "#**8 -  Jogo da forca**\n",
        "\n",
        "Agora que estamos mais familiarizados com programação e com a sintaxe do Pyhton, usaremos todos os conhecimento adquiridos até então para desenvolver 2 projetos finais envolvendo jogos. Inicialmente os jogos desenvolvidos aqui usarão o terminal para interação com o usuário. Mas para quem deseja se aprofundar, pode acessar o nosso canal no youtube onde estaremos apresentando uma versão mais aprimorada dos jogos usando uma interface gráfica através da biblioteca tkinter.\n",
        "\n",
        "No jogo da forca o usuario tem algumas chances, tipicamente 6 até o boneco da forca terminar de ser desenhado, para chutar letras até advinhar uma palavra."
      ],
      "metadata": {
        "id": "nQQEpYTz30PF"
      }
    },
    {
      "cell_type": "code",
      "source": [
        "import random\n",
        "\n",
        "# Mantemos o controle das pontuações\n",
        "player_score = 0\n",
        "computer_score = 0\n",
        "\n",
        "# Seleciona uma palavra aleatória do arquivo\n",
        "def word():\n",
        "    word_list = [\"python\", \"curso\", \"jogo\", \"codigo\"]\n",
        "    random_number = random.randint(0, len(word_list))\n",
        "    word = word_list[random_number].rstrip()\n",
        "    return word\n",
        "\n",
        "# Gráficos do jogo\n",
        "def hanged(man):\n",
        "    graphic = [\n",
        "    '''\n",
        "       +------+\n",
        "       |\n",
        "       |\n",
        "       |\n",
        "       |\n",
        "       |\n",
        "    ==============\n",
        "    ''',\n",
        "    '''\n",
        "       +------+\n",
        "       |      |\n",
        "       |      O\n",
        "       |\n",
        "       |\n",
        "       |\n",
        "    ==============\n",
        "    ''',\n",
        "    '''\n",
        "       +------+\n",
        "       |      |\n",
        "       |      O\n",
        "       |      |\n",
        "       |\n",
        "       |\n",
        "    ==============\n",
        "    ''',\n",
        "    '''\n",
        "       +------+\n",
        "       |      |\n",
        "       |      O\n",
        "       |     -|\n",
        "       |\n",
        "       |\n",
        "    ==============\n",
        "    ''',\n",
        "    '''\n",
        "       +------+\n",
        "       |      |\n",
        "       |      O\n",
        "       |     -|-\n",
        "       |\n",
        "       |\n",
        "    ==============\n",
        "    ''',\n",
        "    '''\n",
        "       +------+\n",
        "       |      |\n",
        "       |      O\n",
        "       |     -|-\n",
        "       |     /\n",
        "       |\n",
        "    ==============\n",
        "    ''',\n",
        "    '''\n",
        "       +------+\n",
        "       |      |\n",
        "       |      O\n",
        "       |     -|-\n",
        "       |     / \\\\\n",
        "       |\n",
        "    ==============\n",
        "    '''\n",
        "    ]\n",
        "    return graphic[man]\n",
        "\n",
        "# Inicializador do jogo\n",
        "def start():\n",
        "    print(\"\")\n",
        "    print(\"Vamos jogar Forca!\")\n",
        "    print(\"\")\n",
        "    while game():\n",
        "        pass\n",
        "    print(\"\")\n",
        "    scores()\n",
        "\n",
        "# O jogo e suas regras\n",
        "def game():\n",
        "    the_word = word()\n",
        "    word_list = the_word.split()\n",
        "    print(\"A palavra tem {} letras.\".format(len(the_word)))\n",
        "    clue = len(the_word) * [\"-\"]\n",
        "    print(\"\")\n",
        "    print(\"\".join(clue))\n",
        "    tries = 6\n",
        "    letters_tried = \"\"\n",
        "    guesses = 0\n",
        "    letters_right = 0\n",
        "    letters_wrong = 0\n",
        "    global computer_score, player_score\n",
        "\n",
        "    while (letters_wrong != tries) and (\"\".join(clue) != the_word):\n",
        "        letter = guess_letter()\n",
        "        if len(letter) == 1 and letter.isalpha():\n",
        "            if letters_tried.find(letter) != -1:\n",
        "                print(\"Você já escolheu a letra\", letter)\n",
        "            else:\n",
        "                letters_tried += letter\n",
        "                first_index = the_word.find(letter)\n",
        "                if first_index == -1:\n",
        "                    letters_wrong += 1\n",
        "                    print(\"Desculpe, não há nenhum(a) {} na palavra.\".format(letter))\n",
        "                else:\n",
        "                    print(\"Eba! {} está correto.\".format(letter))\n",
        "                    for i in range(len(the_word)):\n",
        "                        if letter == the_word[i]:\n",
        "                            clue[i] = letter\n",
        "        else:\n",
        "            print(\"Escolha outra letra\")\n",
        "\n",
        "        print(hanged(letters_wrong))\n",
        "        print(\"\".join(clue))\n",
        "        print(\"\")\n",
        "        print(\"Chutes :\", letters_tried)\n",
        "\n",
        "        if letters_wrong == tries :\n",
        "            print(\"Fim de jogo!\")\n",
        "            print(\"A palavra era {}\".format(the_word))\n",
        "            computer_score += 1\n",
        "            break\n",
        "        if \"\".join(clue) == the_word:\n",
        "            print(\"Você ganhou!\")\n",
        "            print(\"A palavra era {}\".format(the_word))\n",
        "            player_score += 1\n",
        "            break\n",
        "\n",
        "    return play_again()\n",
        "\n",
        "# Obter chute do usuário\n",
        "def guess_letter():\n",
        "    print(\"\")\n",
        "    letter = input(\"Adivinhe uma letra: \")\n",
        "    letter.strip()\n",
        "    letter.lower()\n",
        "    print(\"\")\n",
        "    return letter\n",
        "\n",
        "# Iniciar o jogo novamente\n",
        "def play_again():\n",
        "    print(\"\")\n",
        "    answer = input(\"Você gostaria de jogar novamente? s/n: \")\n",
        "    if answer in (\"s\", \"S\", \"Sim\", \"sim\", \"SIM\", \"Claro!\"):\n",
        "        return answer\n",
        "    else:\n",
        "        print(\"Obrigado por jogar meu jogo. Até a próxima!\")\n",
        "\n",
        "# Mostrar as pontuações\n",
        "def scores():\n",
        "    print(\"\")\n",
        "    global player_score, computer_score\n",
        "    print(\"PONTUAÇÕES\")\n",
        "    print(\"Jogador: \", player_score)\n",
        "    print(\"Computador: \", computer_score)\n",
        "\n",
        "# Iniciar o jogo\n",
        "if __name__ == \"__main__\":\n",
        "    start()\n"
      ],
      "metadata": {
        "id": "U1nLXCvlBU-u"
      },
      "execution_count": null,
      "outputs": []
    },
    {
      "cell_type": "markdown",
      "source": [
        "O código começa com a importação do módulo random, que nos permite selecionar aleatoriamente uma palavra da lista de palavras.\n",
        "\n",
        "O código mantém as pontuações do jogador e do computador e tem várias funções para diferentes partes do jogo. Por exemplo, a função word() seleciona uma palavra aleatória de um arquivo chamado \"words.txt\" para ser a palavra secreta do jogo.\n",
        "\n",
        "Há uma função chamada hanged() que contém os desenhos do homem da forca. Esses gráficos mudam conforme o jogador erra as letras.\n",
        "\n",
        "A função start() inicializa o jogo, enquanto a função game() contém as regras do jogo e a lógica para adivinhar as letras.\n",
        "\n",
        "Dentro do loop do jogo, a função guess_letter() pede ao jogador para adivinhar uma letra. Dependendo da letra adivinhada, o jogo atualiza o gráfico do homem da forca e verifica se o jogador ganhou ou perdeu.\n",
        "\n",
        "Ao final do jogo, a função scores() mostra as pontuações atuais, e play_again() pergunta ao jogador se ele quer jogar novamente.\n",
        "\n",
        "Como podemos ver o jogo faz uso de muitos dos conceitos aprendidos até agora, uma versão mais completa desse jogo e com intergace gráfica pode ser visualizada no nosso canal do youtube.\n",
        "\n",
        "---\n"
      ],
      "metadata": {
        "id": "Et_0oEKKBUTL"
      }
    },
    {
      "cell_type": "markdown",
      "source": [
        "#**9 - Jogo da velha**\n",
        "Este projeto consiste em um jogo da velha simples, desenvolvido em Python, que funciona no terminal. Ele utiliza conceitos básicos de programação, como listas, funções, e laços de repetição. O jogo suporta dois jogadores, que se alternam para marcar suas jogadas em um tabuleiro representado por uma matriz 3x3."
      ],
      "metadata": {
        "id": "1ZZ7akwCxEgd"
      }
    },
    {
      "cell_type": "code",
      "source": [
        "def exibir_tabuleiro(tabuleiro):\n",
        "   #Exibe o tabuleiro no terminal\n",
        "    print(\"\\n Tabuleiro:\")\n",
        "    for i, linha in enumerate(tabuleiro):\n",
        "        print(f\" {linha[0]} | {linha[1]} | {linha[2]} \")\n",
        "        if i < 2:  # Não exibe a linha horizontal no final\n",
        "            print(\"---|---|---\")\n",
        "    print()\n",
        "\n",
        "\n",
        "def checar_vitoria(tabuleiro, jogador):\n",
        "    \"\"\"Verifica se o jogador venceu.\"\"\"\n",
        "    # Verificar linhas, colunas e diagonais\n",
        "    for linha in tabuleiro:\n",
        "        if linha.count(jogador) == 3:\n",
        "            return True\n",
        "\n",
        "    for coluna in range(3):\n",
        "        if all(tabuleiro[linha][coluna] == jogador for linha in range(3)):\n",
        "            return True\n",
        "\n",
        "    if all(tabuleiro[i][i] == jogador for i in range(3)) or \\\n",
        "       all(tabuleiro[i][2 - i] == jogador for i in range(3)):\n",
        "        return True\n",
        "\n",
        "    return False\n",
        "\n",
        "\n",
        "def checar_empate(tabuleiro):\n",
        "    \"\"\"Verifica se todas as posições estão preenchidas e não houve vitória.\"\"\"\n",
        "    for linha in tabuleiro:\n",
        "        if \" \" in linha:\n",
        "            return False\n",
        "    return True\n",
        "\n",
        "\n",
        "def jogar():\n",
        "    \"\"\"Função principal para rodar o jogo.\"\"\"\n",
        "    # Inicializa o tabuleiro vazio\n",
        "    tabuleiro = [[\" \" for _ in range(3)] for _ in range(3)]\n",
        "\n",
        "    jogadores = [\"X\", \"O\"]\n",
        "    jogador_atual = 0\n",
        "\n",
        "    print(\"Bem-vindo ao Jogo da Velha!\")\n",
        "    print(\"O tabuleiro é organizado por índices de linha e coluna (1, 2, 3).\")\n",
        "    exibir_tabuleiro(tabuleiro)\n",
        "\n",
        "    while True:\n",
        "        print(f\"\\nJogador {jogadores[jogador_atual]}, é sua vez.\")\n",
        "        try:\n",
        "            linha = int(input(\"Escolha a linha (1, 2 ou 3): \")) - 1\n",
        "            coluna = int(input(\"Escolha a coluna (1, 2 ou 3): \")) - 1\n",
        "\n",
        "            # Verifica se a posição é válida\n",
        "            if linha not in range(3) or coluna not in range(3):\n",
        "                print(\"Posição inválida! Tente novamente.\")\n",
        "                continue\n",
        "\n",
        "            if tabuleiro[linha][coluna] != \" \":\n",
        "                print(\"Essa posição já está ocupada! Tente novamente.\")\n",
        "                continue\n",
        "\n",
        "            # Faz a jogada\n",
        "            tabuleiro[linha][coluna] = jogadores[jogador_atual]\n",
        "            exibir_tabuleiro(tabuleiro)\n",
        "\n",
        "            # Verifica vitória ou empate\n",
        "            if checar_vitoria(tabuleiro, jogadores[jogador_atual]):\n",
        "                print(f\"Parabéns! Jogador {jogadores[jogador_atual]} venceu!\")\n",
        "                break\n",
        "\n",
        "            if checar_empate(tabuleiro):\n",
        "                print(\"O jogo empatou!\")\n",
        "                break\n",
        "\n",
        "            # Alterna o jogador\n",
        "            jogador_atual = 1 - jogador_atual\n",
        "\n",
        "        except ValueError:\n",
        "            print(\"Por favor, insira um número válido.\")\n",
        "\n",
        "if __name__ == \"__main__\":\n",
        "    jogar()"
      ],
      "metadata": {
        "id": "5e9ZBVSC5Qnf"
      },
      "execution_count": null,
      "outputs": []
    },
    {
      "cell_type": "markdown",
      "source": [
        "---\n",
        "#**10 - Jogo da memória**\n",
        "Agora trabalharemos com um código já intregrado a interface, explicado passo a passo para introduzirmos o Tkinter.\n",
        "\n",
        "**Obs.: Os códigos a seguir não poderão ser executados no Colab.**\n",
        "\n",
        "O jogo da memória feito em Python com a biblioteca Tkinter é um aplicativo interativo em que os jogadores devem encontrar pares de cartas correspondentes. O jogo exibe uma grade 4x4 de cartões e o jogador clica em dois deles para revelá-los, se as cores combinarem o par permanece virado. Caso contrário, as cartas são viradas para baixo novamente. O objetivo é encontrar todos os pares no menor número de tentativas possível.\n",
        "\n",
        "Esse projeto é uma excelente forma de praticar lógica de programação, manipulação de interfaces gráficas e conceitos de loops e eventos em Python."
      ],
      "metadata": {
        "id": "3QBcZiQ44Nco"
      }
    },
    {
      "cell_type": "markdown",
      "source": [
        "---\n",
        "### Imports\n",
        "Os imports são usados para importar bibliotecas ou módulos. Eles permitem que você utilize funcionalidades de outros códigos em seu próprio programa.\n",
        "\n",
        "```python\n",
        "#importamos as bibliotecas e recursos necessários\n",
        "\n",
        "import tkinter as tk              #recursos da biblioteca tkinter, responsável pela interface gráfica\n",
        "from tkinter import messagebox\n",
        "import random                     #biblioteca random para aleatorizar as rodadas\n",
        "```"
      ],
      "metadata": {
        "id": "xCg7mhDUd-ol"
      }
    },
    {
      "cell_type": "markdown",
      "source": [
        "Pode-se utilizar a importação:\n",
        "\n",
        "```\n",
        "from tkinter import *\n",
        "```\n",
        "\n",
        "Essa notacão importa todos os elementos da biblioteca de uma só vez. No entanto, essa prática não é recomendada quando apenas alguns recursos são utilizados, pois pode levar à ocupação desnecessária de memória e aumentar o risco de conflitos de nomes."
      ],
      "metadata": {
        "id": "T4gzIPn0ey-_"
      }
    },
    {
      "cell_type": "markdown",
      "source": [
        "---\n",
        "### Configurações da grade\n",
        "```python\n",
        "#definimos quantas linhas e colunas há na grade\n",
        "NUM_ROWS = 4      #linhas\n",
        "NUM_COLS = 4      #colunas\n",
        "\n",
        "#definimos qual o tamanho de largura e altura dos cartões\n",
        "CARD_SIZE_W = 10  #largura\n",
        "CARD_SIZE_H = 5   #altura\n",
        "```"
      ],
      "metadata": {
        "id": "h1nXQk2YdxtY"
      }
    },
    {
      "cell_type": "markdown",
      "source": [
        "---\n",
        "\n",
        "### Constantes\n",
        "Cores, fontes, estilo e número de tentativas;\n",
        "```python\n",
        "#definimos quais as cores dos cartões a partir de uma lista - 8 cores para um conjunto de 16 cartões\n",
        "CARD_COLORS = [\n",
        "    'green', 'orange', 'brown',  'grey',\n",
        "    'navy',  'olive', 'violet', 'turquoise'\n",
        "]\n",
        "\n",
        "BG_COLOR = '#272727'                  #cor de fundo (cinza escuro)\n",
        "FONT_COLOR = 'white'                  #cor da fonte\n",
        "FONT_STYLE = ('Arial', 12, 'bold')    #estilo da escrita (nome da fonte, tamanho e recurso negrito)\n",
        "MAX_ATTEMPTS = 20                     #número máximo de tentativas\n",
        "attempts = 0                          #inicia as tentativas em 0\n",
        "```"
      ],
      "metadata": {
        "id": "R0H_jl63gtd3"
      }
    },
    {
      "cell_type": "markdown",
      "source": [
        "---\n",
        "### Funções"
      ],
      "metadata": {
        "id": "Ai9smuMVh9Wt"
      }
    },
    {
      "cell_type": "markdown",
      "source": [
        "Função para criar os 16 cartões do jogo.\n",
        "```python\n",
        "def create_card_grid():\n",
        "    colors = CARD_COLORS * 2        #duplica as cores para formar pares\n",
        "    random.shuffle(colors)          #aleatoriza as cores de cada cartão\n",
        "    grid = []                       #inicializa uma lista vazia para armazenar as linhas da grade\n",
        "    for _ in range(NUM_ROWS):\n",
        "        row = []                    #inicializa uma lista vazia para representar uma linha individual da grade\n",
        "        for _ in range(NUM_COLS):\n",
        "            color = colors.pop()    #remove e retorna a última cor da lista embaralhada, garantindo que cada cor só seja usada uma vez\n",
        "            row.append(color)       #adiciona a cor removida à linha atual.\n",
        "        grid.append(row)            #adiciona a linha à grade\n",
        "    return grid                     #retorna a grade já completa\n",
        "```"
      ],
      "metadata": {
        "id": "ecCbG6XMid4V"
      }
    },
    {
      "cell_type": "markdown",
      "source": [
        "Função para tratar a lógica de quando um cartão é clicado pelo jogador.\n",
        "```python\n",
        "def card_clicked(row, col):\n",
        "    card = cards[row][col]            #acessa uma carta específica na posição indicada por row e col\n",
        "    color = card['bg']\n",
        "    if color == 'black':              #verifica se o cartão está virado para baixo\n",
        "        card['bg'] = grid[row][col]   #revela o cartão\n",
        "        revealed_cards.append(card)   #armazena em uma lista as cartas que foram reveladas para comparação\n",
        "        if len(revealed_cards) == 2:  #verifica se dois cartões foram revelados\n",
        "            check_match()             #verifica se as duas cartas reveladas são um par correspondente - chama a função check_match()\n",
        "```"
      ],
      "metadata": {
        "id": "CaIHUIIkl69-"
      }
    },
    {
      "cell_type": "markdown",
      "source": [
        "Função para verificar se duas determinadas cartas são um par.\n",
        "```python\n",
        "def check_match():\n",
        "    card1, card2 = revealed_cards             #faz a verificação entre um cartão (card1) e outro (card2)\n",
        "    if card1['bg'] == card2['bg']:            #verifica se são o mesmo\n",
        "        card1.after(1000, card1.destroy)      #caso eles sejam iguais, elimina ambos os cartões\n",
        "        card2.after(1000, card2.destroy)\n",
        "        matched_cards.extend([card1, card2])  #adiciona as cartas destruidas a uma lista\n",
        "        check_win()                           #verifica se o jogador já venceu - chama a função check_win()\n",
        "    else:\n",
        "        card1.after(1000, lambda: card1.config(bg='black'))    #caso elas não sejam iguais, vira as cartas novamente para baixo\n",
        "        card2.after(1000, lambda: card2.config(bg='black'))\n",
        "    revealed_cards.clear()                    #limpa a lista de cartas reveladas para a próxima tentativa\n",
        "    update_score()    \n",
        "  ```"
      ],
      "metadata": {
        "id": "R8EPxsPyuSZ0"
      }
    },
    {
      "cell_type": "markdown",
      "source": [
        "Função para verificar se o jogador venceu.\n",
        "```python\n",
        "def check_win():\n",
        "    if len(matched_cards) == NUM_ROWS * NUM_COLS:     #verifica se todas as combinações foram encontradas\n",
        "        messagebox.showinfo('Vitória!', 'Você venceu, parabéns!!!')   #em caso verdadeiro, expõe uma mensagem de vitória\n",
        "        window.quit()                                 #finaliza a execução do programa\n",
        "```\n"
      ],
      "metadata": {
        "id": "r4XhfDrdkKqY"
      }
    },
    {
      "cell_type": "markdown",
      "source": [
        "Função para limitar as tentativas do jogador.\n",
        "```python\n",
        "def update_score():\n",
        "    global attempts                                                 #variável para controlar as tentativas\n",
        "    attempts += 1\n",
        "    #atualiza o texto a partir de um rótulo na interface gráfica para mostrar o número atual de tentativas em relação ao máximo permitido\n",
        "    attempts_label.config(text='Tentativas: {}/{}'.format(attempts, MAX_ATTEMPTS))\n",
        "    if attempts >= MAX_ATTEMPTS:                                    #verifica se as tentativas já se igualaram\n",
        "        messagebox.showinfo('Fim de Jogo', 'Você perdeu o jogo!')   #caso sejam iguais, mostra uma mensagem de derrota\n",
        "        window.quit()                                               #finaliza a execução do programa\n",
        "```"
      ],
      "metadata": {
        "id": "cD8GLVS6y6jS"
      }
    },
    {
      "cell_type": "markdown",
      "source": [
        "---\n",
        "###Configuração da Janela\n",
        "```python\n",
        "window = tk.Tk()  #cria uma janela chamada \"window\"\n",
        "window.title('Jogo de Memória')   #define o título\n",
        "window.configure(bg=BG_COLOR)  #define a cor de fundo\n",
        "```"
      ],
      "metadata": {
        "id": "8NIjdIYC1jZJ"
      }
    },
    {
      "cell_type": "markdown",
      "source": [
        "---\n",
        "### Criação da grade e listas relacionadas\n",
        "```python\n",
        "grid = create_card_grid()   #cria a grade\n",
        "cards = []                  #lista para os cartões\n",
        "revealed_cards = []         #lista para os cartões revelados\n",
        "matched_cards = []          #lista para os cartões combinados\n",
        "```"
      ],
      "metadata": {
        "id": "Duz_KrhM15Pr"
      }
    },
    {
      "cell_type": "markdown",
      "source": [
        "---\n",
        "### Botões"
      ],
      "metadata": {
        "id": "if_F1gs33Osn"
      }
    },
    {
      "cell_type": "markdown",
      "source": [
        "Cria os botões que representam os cartões do jogo.\n",
        "```python\n",
        "for row in range(NUM_ROWS):\n",
        "    row_of_cards = []\n",
        "    for col in range(NUM_COLS):\n",
        "        card = tk.Button(window, width=CARD_SIZE_W, height=CARD_SIZE_H, bg='black',       #caracteriza os botões\n",
        "                        relief=tk.RAISED, bd=3, command=lambda r=row, c=col: card_clicked(r, c))\n",
        "        card.grid(row=row, column=col, padx=5, pady=5) #organiza os widgets em uma grade e espaçam eles em 5 pixels\n",
        "        row_of_cards.append(card)                      #adiciona o objeto card ao final da lista row_of_cards, lista de linhas\n",
        "    cards.append(row_of_cards)                         #adiciona cada linha à lista cards, formando uma estrutura bidimensional\n",
        "```"
      ],
      "metadata": {
        "id": "ucEhbgjR3a-o"
      }
    },
    {
      "cell_type": "markdown",
      "source": [
        "---\n",
        "###Caracterização dos botões\n",
        "**window:** em que janela serão posicionados\n",
        "\n",
        "**width e height:** largura e altura dos botões\n",
        "\n",
        "**bg:** cor de fundo\n",
        "\n",
        "**relief:** borda do botão, em relevo\n",
        "\n",
        "**bd:** largura da borda em pixels\n",
        "\n",
        "**command:** indica um comando para o botão\n",
        "\n",
        "**lambda:** captura os valores atuais de row e col\n",
        "\n",
        "**card_clicked(r,c):** utiliza os valores capturados na função"
      ],
      "metadata": {
        "id": "84lUjIC98Q5z"
      }
    },
    {
      "cell_type": "markdown",
      "source": [
        "---\n",
        "### Estilo dos botões\n",
        "```python\n",
        "#padronização dos widgets\n",
        "button_style = {'activebackground': '#f8f9fa', 'font': FONT_STYLE, 'fg': FONT_COLOR}\n",
        "#cor de fundo do botão quando ele está ativo (clicado ou pressionado)\n",
        "#define a fonte do texto do botão\n",
        "#define a cor do texto\n",
        "window.option_add('*Button', button_style)\n",
        "#aplica as configurações de estilo definidas em button_style a todos os widgets do tipo Button na janela window\n",
        "```"
      ],
      "metadata": {
        "id": "6ZN0bEePI1oj"
      }
    },
    {
      "cell_type": "markdown",
      "source": [
        "---\n",
        "### Final do código"
      ],
      "metadata": {
        "id": "W_5p83d3JuPb"
      }
    },
    {
      "cell_type": "markdown",
      "source": [
        "No inferior da janela será indicado o número de tentativas atual/total.\n",
        "```python\n",
        "#cria o rótulo de tentativas\n",
        "#cria uma label, widget usado para exibir texto ou imagens na interface gráfica, e a caracteriza\n",
        "attempts_label = tk.Label(window, text='Tentativas: {}/{}'.format(attempts, MAX_ATTEMPTS), fg=FONT_COLOR, bg=BG_COLOR, font=FONT_STYLE)\n",
        "attempts_label.grid(row=NUM_ROWS, columnspan=NUM_COLS, padx=10, pady=10)  #posiciona a label criada\n",
        "```"
      ],
      "metadata": {
        "id": "YjBHo6MyKVbj"
      }
    },
    {
      "cell_type": "markdown",
      "source": [
        "Ao abrir uma janela, window, é necessário encerrar seu loop de execução. Sempre após caracterizá-la.\n",
        "```python\n",
        "#inicia o loop principal da janela\n",
        "window.mainloop()\n",
        "```"
      ],
      "metadata": {
        "id": "OCYQKYprJ9LD"
      }
    }
  ]
}